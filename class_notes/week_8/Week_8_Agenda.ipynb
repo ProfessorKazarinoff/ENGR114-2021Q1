{
 "cells": [
  {
   "cell_type": "markdown",
   "metadata": {},
   "source": [
    "# Week 8 Agenda"
   ]
  },
  {
   "cell_type": "markdown",
   "metadata": {},
   "source": [
    "## Mon Agenda"
   ]
  },
  {
   "cell_type": "markdown",
   "metadata": {},
   "source": [
    " * D2L and Due Dates, Exam 2 Project\n",
    " * Review user defined functions \n",
    " * Break\n",
    " * Review functions in other files\n",
    " * Intro to Selection statements: if, elif, else\n",
    " * Wrap-Up"
   ]
  },
  {
   "cell_type": "markdown",
   "metadata": {},
   "source": [
    "## Wed Agenda"
   ]
  },
  {
   "cell_type": "markdown",
   "metadata": {},
   "source": [
    " * D2L, due dates, project talk\n",
    " * Review functions in other files\n",
    " * Review calling functions from other files and passing variables around from function output to function input (like in the web API lab)\n",
    " * Break\n",
    " * Review if, elif, else\n",
    " * Try/Except blocks\n",
    " * Break\n",
    " * Lab 6 Intro\n",
    " * Wrap Up"
   ]
  },
  {
   "cell_type": "code",
   "execution_count": null,
   "metadata": {},
   "outputs": [],
   "source": []
  }
 ],
 "metadata": {
  "kernelspec": {
   "display_name": "Python 3",
   "language": "python",
   "name": "python3"
  },
  "language_info": {
   "codemirror_mode": {
    "name": "ipython",
    "version": 3
   },
   "file_extension": ".py",
   "mimetype": "text/x-python",
   "name": "python",
   "nbconvert_exporter": "python",
   "pygments_lexer": "ipython3",
   "version": "3.8.5"
  }
 },
 "nbformat": 4,
 "nbformat_minor": 4
}
