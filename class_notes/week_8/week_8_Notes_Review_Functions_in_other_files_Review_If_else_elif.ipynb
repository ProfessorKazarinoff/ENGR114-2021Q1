{
 "cells": [
  {
   "cell_type": "markdown",
   "id": "technical-saturday",
   "metadata": {},
   "source": [
    "# Week 8 Notes: Review Functions in other files, If, Else, Elif"
   ]
  },
  {
   "cell_type": "markdown",
   "id": "manufactured-channels",
   "metadata": {},
   "source": [
    "## Call Functions in other files, use output from one function as input for another function"
   ]
  },
  {
   "cell_type": "code",
   "execution_count": 1,
   "id": "unnecessary-charter",
   "metadata": {},
   "outputs": [
    {
     "name": "stdout",
     "output_type": "stream",
     "text": [
      " Volume in drive C is OS\n",
      " Volume Serial Number is 1236-A93E\n",
      "\n",
      " Directory of C:\\Users\\peter.kazarinoff\\Documents\\ENGR114-2021Q1\\class_notes\\week_8\n",
      "\n",
      "02/24/2021  12:23 PM    <DIR>          .\n",
      "02/24/2021  12:23 PM    <DIR>          ..\n",
      "02/24/2021  11:13 AM    <DIR>          .ipynb_checkpoints\n",
      "02/24/2021  10:54 AM    <DIR>          __pycache__\n",
      "02/24/2021  12:12 PM               862 call_API.py\n",
      "02/24/2021  12:13 PM               327 clean_data.py\n",
      "02/22/2021  10:50 AM               304 com_funcs.py\n",
      "02/24/2021  12:21 PM           219,509 lab6_intro.ipynb\n",
      "02/22/2021  10:50 AM               159 math_funcs.py\n",
      "02/24/2021  11:15 AM            60,375 stinkbug.png\n",
      "02/24/2021  12:23 PM               198 user_input.py\n",
      "02/24/2021  12:23 PM             1,597 Week_8_Agenda.ipynb\n",
      "02/22/2021  11:50 AM             9,110 week_8_notes_function_review_if_elif_else.ipynb\n",
      "02/24/2021  12:23 PM             5,587 week_8_Notes_Review_Functions_in_other_files_Review_If_else_elif.ipynb\n",
      "              10 File(s)        298,028 bytes\n",
      "               4 Dir(s)  55,433,707,520 bytes free\n"
     ]
    }
   ],
   "source": [
    "%ls"
   ]
  },
  {
   "cell_type": "code",
   "execution_count": 2,
   "id": "forward-setting",
   "metadata": {},
   "outputs": [],
   "source": [
    "from user_input import user_input\n",
    "from call_API import call_API\n",
    "from clean_data import clean_data"
   ]
  },
  {
   "cell_type": "code",
   "execution_count": 3,
   "id": "resident-edward",
   "metadata": {},
   "outputs": [
    {
     "name": "stdout",
     "output_type": "stream",
     "text": [
      "What weather data are you looking for? temperature\n",
      "How many data points should be collected? 5\n"
     ]
    },
    {
     "data": {
      "text/plain": [
       "array([50.5, 50.5, 50.5, 50.5, 50.3])"
      ]
     },
     "execution_count": 3,
     "metadata": {},
     "output_type": "execute_result"
    }
   ],
   "source": [
    "w_type, n_data_pts_int = user_input()\n",
    "df = call_API(n_data_pts_int, w_type)\n",
    "a = clean_data(df, w_type)\n",
    "a"
   ]
  },
  {
   "cell_type": "code",
   "execution_count": 4,
   "id": "understanding-upset",
   "metadata": {},
   "outputs": [
    {
     "data": {
      "text/html": [
       "<div>\n",
       "<style scoped>\n",
       "    .dataframe tbody tr th:only-of-type {\n",
       "        vertical-align: middle;\n",
       "    }\n",
       "\n",
       "    .dataframe tbody tr th {\n",
       "        vertical-align: top;\n",
       "    }\n",
       "\n",
       "    .dataframe thead th {\n",
       "        text-align: right;\n",
       "    }\n",
       "</style>\n",
       "<table border=\"1\" class=\"dataframe\">\n",
       "  <thead>\n",
       "    <tr style=\"text-align: right;\">\n",
       "      <th></th>\n",
       "      <th>created_at</th>\n",
       "      <th>entry_id</th>\n",
       "      <th>field4</th>\n",
       "    </tr>\n",
       "  </thead>\n",
       "  <tbody>\n",
       "    <tr>\n",
       "      <th>0</th>\n",
       "      <td>2021-02-24 20:20:07 UTC</td>\n",
       "      <td>3256878</td>\n",
       "      <td>50.5</td>\n",
       "    </tr>\n",
       "    <tr>\n",
       "      <th>1</th>\n",
       "      <td>2021-02-24 20:21:07 UTC</td>\n",
       "      <td>3256879</td>\n",
       "      <td>50.5</td>\n",
       "    </tr>\n",
       "    <tr>\n",
       "      <th>2</th>\n",
       "      <td>2021-02-24 20:22:07 UTC</td>\n",
       "      <td>3256880</td>\n",
       "      <td>50.5</td>\n",
       "    </tr>\n",
       "    <tr>\n",
       "      <th>3</th>\n",
       "      <td>2021-02-24 20:23:07 UTC</td>\n",
       "      <td>3256881</td>\n",
       "      <td>50.5</td>\n",
       "    </tr>\n",
       "    <tr>\n",
       "      <th>4</th>\n",
       "      <td>2021-02-24 20:24:07 UTC</td>\n",
       "      <td>3256882</td>\n",
       "      <td>50.3</td>\n",
       "    </tr>\n",
       "  </tbody>\n",
       "</table>\n",
       "</div>"
      ],
      "text/plain": [
       "                created_at  entry_id  field4\n",
       "0  2021-02-24 20:20:07 UTC   3256878    50.5\n",
       "1  2021-02-24 20:21:07 UTC   3256879    50.5\n",
       "2  2021-02-24 20:22:07 UTC   3256880    50.5\n",
       "3  2021-02-24 20:23:07 UTC   3256881    50.5\n",
       "4  2021-02-24 20:24:07 UTC   3256882    50.3"
      ]
     },
     "execution_count": 4,
     "metadata": {},
     "output_type": "execute_result"
    }
   ],
   "source": [
    "df"
   ]
  },
  {
   "cell_type": "code",
   "execution_count": 5,
   "id": "endangered-azerbaijan",
   "metadata": {},
   "outputs": [],
   "source": [
    "from call_API import N_DATA_PTS, WEATHER_TYPE, call_API"
   ]
  },
  {
   "cell_type": "code",
   "execution_count": 6,
   "id": "better-original",
   "metadata": {},
   "outputs": [
    {
     "data": {
      "text/plain": [
       "10"
      ]
     },
     "execution_count": 6,
     "metadata": {},
     "output_type": "execute_result"
    }
   ],
   "source": [
    "N_DATA_PTS"
   ]
  },
  {
   "cell_type": "code",
   "execution_count": 7,
   "id": "historic-guide",
   "metadata": {},
   "outputs": [
    {
     "data": {
      "text/plain": [
       "'pressure'"
      ]
     },
     "execution_count": 7,
     "metadata": {},
     "output_type": "execute_result"
    }
   ],
   "source": [
    "WEATHER_TYPE"
   ]
  },
  {
   "cell_type": "code",
   "execution_count": 8,
   "id": "professional-opening",
   "metadata": {},
   "outputs": [
    {
     "data": {
      "text/html": [
       "<div>\n",
       "<style scoped>\n",
       "    .dataframe tbody tr th:only-of-type {\n",
       "        vertical-align: middle;\n",
       "    }\n",
       "\n",
       "    .dataframe tbody tr th {\n",
       "        vertical-align: top;\n",
       "    }\n",
       "\n",
       "    .dataframe thead th {\n",
       "        text-align: right;\n",
       "    }\n",
       "</style>\n",
       "<table border=\"1\" class=\"dataframe\">\n",
       "  <thead>\n",
       "    <tr style=\"text-align: right;\">\n",
       "      <th></th>\n",
       "      <th>created_at</th>\n",
       "      <th>entry_id</th>\n",
       "      <th>field6</th>\n",
       "    </tr>\n",
       "  </thead>\n",
       "  <tbody>\n",
       "    <tr>\n",
       "      <th>0</th>\n",
       "      <td>2021-02-24 20:15:07 UTC</td>\n",
       "      <td>3256873</td>\n",
       "      <td>29.64</td>\n",
       "    </tr>\n",
       "    <tr>\n",
       "      <th>1</th>\n",
       "      <td>2021-02-24 20:16:07 UTC</td>\n",
       "      <td>3256874</td>\n",
       "      <td>29.64</td>\n",
       "    </tr>\n",
       "    <tr>\n",
       "      <th>2</th>\n",
       "      <td>2021-02-24 20:17:07 UTC</td>\n",
       "      <td>3256875</td>\n",
       "      <td>29.64</td>\n",
       "    </tr>\n",
       "    <tr>\n",
       "      <th>3</th>\n",
       "      <td>2021-02-24 20:18:07 UTC</td>\n",
       "      <td>3256876</td>\n",
       "      <td>29.64</td>\n",
       "    </tr>\n",
       "    <tr>\n",
       "      <th>4</th>\n",
       "      <td>2021-02-24 20:19:07 UTC</td>\n",
       "      <td>3256877</td>\n",
       "      <td>29.64</td>\n",
       "    </tr>\n",
       "    <tr>\n",
       "      <th>5</th>\n",
       "      <td>2021-02-24 20:20:07 UTC</td>\n",
       "      <td>3256878</td>\n",
       "      <td>29.64</td>\n",
       "    </tr>\n",
       "    <tr>\n",
       "      <th>6</th>\n",
       "      <td>2021-02-24 20:21:07 UTC</td>\n",
       "      <td>3256879</td>\n",
       "      <td>29.64</td>\n",
       "    </tr>\n",
       "    <tr>\n",
       "      <th>7</th>\n",
       "      <td>2021-02-24 20:22:07 UTC</td>\n",
       "      <td>3256880</td>\n",
       "      <td>29.64</td>\n",
       "    </tr>\n",
       "    <tr>\n",
       "      <th>8</th>\n",
       "      <td>2021-02-24 20:23:07 UTC</td>\n",
       "      <td>3256881</td>\n",
       "      <td>29.64</td>\n",
       "    </tr>\n",
       "    <tr>\n",
       "      <th>9</th>\n",
       "      <td>2021-02-24 20:24:07 UTC</td>\n",
       "      <td>3256882</td>\n",
       "      <td>29.64</td>\n",
       "    </tr>\n",
       "  </tbody>\n",
       "</table>\n",
       "</div>"
      ],
      "text/plain": [
       "                created_at  entry_id  field6\n",
       "0  2021-02-24 20:15:07 UTC   3256873   29.64\n",
       "1  2021-02-24 20:16:07 UTC   3256874   29.64\n",
       "2  2021-02-24 20:17:07 UTC   3256875   29.64\n",
       "3  2021-02-24 20:18:07 UTC   3256876   29.64\n",
       "4  2021-02-24 20:19:07 UTC   3256877   29.64\n",
       "5  2021-02-24 20:20:07 UTC   3256878   29.64\n",
       "6  2021-02-24 20:21:07 UTC   3256879   29.64\n",
       "7  2021-02-24 20:22:07 UTC   3256880   29.64\n",
       "8  2021-02-24 20:23:07 UTC   3256881   29.64\n",
       "9  2021-02-24 20:24:07 UTC   3256882   29.64"
      ]
     },
     "execution_count": 8,
     "metadata": {},
     "output_type": "execute_result"
    }
   ],
   "source": [
    "call_API(N_DATA_PTS, WEATHER_TYPE)"
   ]
  },
  {
   "cell_type": "markdown",
   "id": "ordered-profile",
   "metadata": {},
   "source": [
    "## Try, Except Blocks"
   ]
  },
  {
   "cell_type": "code",
   "execution_count": 9,
   "id": "furnished-marketplace",
   "metadata": {},
   "outputs": [
    {
     "name": "stdout",
     "output_type": "stream",
     "text": [
      "not 2\n"
     ]
    }
   ],
   "source": [
    "n = 4\n",
    "if n == 2:\n",
    "    print(\"2\")\n",
    "else:\n",
    "    print(\"not 2\")"
   ]
  },
  {
   "cell_type": "code",
   "execution_count": 10,
   "id": "generous-interaction",
   "metadata": {},
   "outputs": [
    {
     "name": "stdout",
     "output_type": "stream",
     "text": [
      "not 2\n"
     ]
    }
   ],
   "source": [
    "n = 9\n",
    "try:\n",
    "    import gabby\n",
    "    print(\"import worked\")\n",
    "except:\n",
    "    print(\"not 2\")"
   ]
  },
  {
   "cell_type": "code",
   "execution_count": 11,
   "id": "latin-validation",
   "metadata": {},
   "outputs": [],
   "source": [
    "from call_API import call_API"
   ]
  },
  {
   "cell_type": "code",
   "execution_count": 13,
   "id": "statistical-pavilion",
   "metadata": {},
   "outputs": [
    {
     "data": {
      "text/html": [
       "<div>\n",
       "<style scoped>\n",
       "    .dataframe tbody tr th:only-of-type {\n",
       "        vertical-align: middle;\n",
       "    }\n",
       "\n",
       "    .dataframe tbody tr th {\n",
       "        vertical-align: top;\n",
       "    }\n",
       "\n",
       "    .dataframe thead th {\n",
       "        text-align: right;\n",
       "    }\n",
       "</style>\n",
       "<table border=\"1\" class=\"dataframe\">\n",
       "  <thead>\n",
       "    <tr style=\"text-align: right;\">\n",
       "      <th></th>\n",
       "      <th>created_at</th>\n",
       "      <th>entry_id</th>\n",
       "      <th>field4</th>\n",
       "    </tr>\n",
       "  </thead>\n",
       "  <tbody>\n",
       "    <tr>\n",
       "      <th>0</th>\n",
       "      <td>2021-02-24 20:21:07 UTC</td>\n",
       "      <td>3256879</td>\n",
       "      <td>50.5</td>\n",
       "    </tr>\n",
       "    <tr>\n",
       "      <th>1</th>\n",
       "      <td>2021-02-24 20:22:07 UTC</td>\n",
       "      <td>3256880</td>\n",
       "      <td>50.5</td>\n",
       "    </tr>\n",
       "    <tr>\n",
       "      <th>2</th>\n",
       "      <td>2021-02-24 20:23:07 UTC</td>\n",
       "      <td>3256881</td>\n",
       "      <td>50.5</td>\n",
       "    </tr>\n",
       "    <tr>\n",
       "      <th>3</th>\n",
       "      <td>2021-02-24 20:24:07 UTC</td>\n",
       "      <td>3256882</td>\n",
       "      <td>50.3</td>\n",
       "    </tr>\n",
       "  </tbody>\n",
       "</table>\n",
       "</div>"
      ],
      "text/plain": [
       "                created_at  entry_id  field4\n",
       "0  2021-02-24 20:21:07 UTC   3256879    50.5\n",
       "1  2021-02-24 20:22:07 UTC   3256880    50.5\n",
       "2  2021-02-24 20:23:07 UTC   3256881    50.5\n",
       "3  2021-02-24 20:24:07 UTC   3256882    50.3"
      ]
     },
     "execution_count": 13,
     "metadata": {},
     "output_type": "execute_result"
    }
   ],
   "source": [
    "call_API(4, 'asdfa sdsda ') # default field number if the input argument is invalid"
   ]
  },
  {
   "cell_type": "code",
   "execution_count": null,
   "id": "natural-communication",
   "metadata": {},
   "outputs": [],
   "source": []
  }
 ],
 "metadata": {
  "kernelspec": {
   "display_name": "Python 3",
   "language": "python",
   "name": "python3"
  },
  "language_info": {
   "codemirror_mode": {
    "name": "ipython",
    "version": 3
   },
   "file_extension": ".py",
   "mimetype": "text/x-python",
   "name": "python",
   "nbconvert_exporter": "python",
   "pygments_lexer": "ipython3",
   "version": "3.8.5"
  }
 },
 "nbformat": 4,
 "nbformat_minor": 5
}
