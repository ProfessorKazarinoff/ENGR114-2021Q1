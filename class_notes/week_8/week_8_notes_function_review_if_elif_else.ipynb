{
 "cells": [
  {
   "cell_type": "markdown",
   "metadata": {},
   "source": [
    "# Week 8 Notes: Functions Review, and if, elif, else"
   ]
  },
  {
   "cell_type": "markdown",
   "metadata": {},
   "source": [
    "## Functions Review"
   ]
  },
  {
   "cell_type": "code",
   "execution_count": null,
   "metadata": {},
   "outputs": [],
   "source": [
    "# define a function in a Jupyter notebook\n",
    "def shape_type(n_sides):\n",
    "    d = {3:'triangle',4:'square',5:'pentagon',6:'hexagon'}\n",
    "    out = d[n_sides]\n",
    "    return out"
   ]
  },
  {
   "cell_type": "code",
   "execution_count": null,
   "metadata": {},
   "outputs": [],
   "source": [
    "n = 6\n",
    "shape = shape_type(n)\n",
    "print(shape)"
   ]
  },
  {
   "cell_type": "code",
   "execution_count": null,
   "metadata": {},
   "outputs": [],
   "source": []
  },
  {
   "cell_type": "code",
   "execution_count": null,
   "metadata": {},
   "outputs": [],
   "source": [
    "shape"
   ]
  },
  {
   "cell_type": "code",
   "execution_count": null,
   "metadata": {},
   "outputs": [],
   "source": [
    "# n_sides is a local varaible, therefore it can not be used throught the script\n",
    "# n_sides can only be used in the function definition\n",
    "n_sides"
   ]
  },
  {
   "cell_type": "code",
   "execution_count": null,
   "metadata": {},
   "outputs": [],
   "source": [
    "# a global variable that doesn't change\n",
    "NAME = \"Peter\""
   ]
  },
  {
   "cell_type": "markdown",
   "metadata": {},
   "source": [
    "### Functions defined in other files"
   ]
  },
  {
   "cell_type": "markdown",
   "metadata": {},
   "source": [
    " * define a function that say's hello in a separate file\n",
    " * import that function into this Jupyter notebook\n",
    " * call that function in this Jupyter notebook"
   ]
  },
  {
   "cell_type": "code",
   "execution_count": null,
   "metadata": {},
   "outputs": [],
   "source": [
    "%ls"
   ]
  },
  {
   "cell_type": "code",
   "execution_count": null,
   "metadata": {},
   "outputs": [],
   "source": [
    "import com_funcs\n",
    "\n",
    "n = \"Gabby\"\n",
    "phrase = com_funcs.say_hi(n)\n",
    "print(phrase)"
   ]
  },
  {
   "cell_type": "code",
   "execution_count": null,
   "metadata": {},
   "outputs": [],
   "source": [
    "from com_funcs import say_hi\n",
    "\n",
    "new_n = \"Maelle\"\n",
    "out2 = say_hi(new_n)\n",
    "print(out2)"
   ]
  },
  {
   "cell_type": "code",
   "execution_count": null,
   "metadata": {},
   "outputs": [],
   "source": [
    "%ls"
   ]
  },
  {
   "cell_type": "code",
   "execution_count": null,
   "metadata": {},
   "outputs": [],
   "source": [
    "from math_funcs import plus_two\n",
    "\n",
    "m = 5\n",
    "out3 = plus_two(m)\n",
    "print(out3)"
   ]
  },
  {
   "cell_type": "code",
   "execution_count": null,
   "metadata": {},
   "outputs": [],
   "source": [
    "out3"
   ]
  },
  {
   "cell_type": "code",
   "execution_count": null,
   "metadata": {},
   "outputs": [],
   "source": [
    "num"
   ]
  },
  {
   "cell_type": "code",
   "execution_count": null,
   "metadata": {},
   "outputs": [],
   "source": [
    "out"
   ]
  },
  {
   "cell_type": "code",
   "execution_count": 1,
   "metadata": {},
   "outputs": [
    {
     "name": "stdout",
     "output_type": "stream",
     "text": [
      "Hi 9!\n"
     ]
    }
   ],
   "source": [
    "from com_funcs import say_hi_to_plus_two\n",
    "\n",
    "in4 = 7\n",
    "out4 = say_hi_to_plus_two(in4)\n",
    "print(out4)"
   ]
  },
  {
   "cell_type": "markdown",
   "metadata": {},
   "source": [
    "## Selection Statements If / Elif / Else"
   ]
  },
  {
   "cell_type": "markdown",
   "metadata": {},
   "source": [
    "### If"
   ]
  },
  {
   "cell_type": "code",
   "execution_count": 3,
   "metadata": {},
   "outputs": [],
   "source": [
    "n = 8\n",
    "if n<5:\n",
    "    print('n is less than five')"
   ]
  },
  {
   "cell_type": "code",
   "execution_count": 26,
   "metadata": {},
   "outputs": [
    {
     "name": "stdout",
     "output_type": "stream",
     "text": [
      "n is less than five\n",
      "n is less than zero\n"
     ]
    }
   ],
   "source": [
    "n = -11\n",
    "if n<5:\n",
    "    print('n is less than five')\n",
    "if n<0:\n",
    "    print('n is less than zero')"
   ]
  },
  {
   "cell_type": "code",
   "execution_count": 8,
   "metadata": {},
   "outputs": [
    {
     "name": "stdout",
     "output_type": "stream",
     "text": [
      "You selected False\n"
     ]
    }
   ],
   "source": [
    "b = False\n",
    "if b:\n",
    "    print('You selected True')\n",
    "if not b:\n",
    "    print('You selected False')"
   ]
  },
  {
   "cell_type": "code",
   "execution_count": 12,
   "metadata": {},
   "outputs": [
    {
     "name": "stdout",
     "output_type": "stream",
     "text": [
      "The string is empty\n"
     ]
    }
   ],
   "source": [
    "s = ''\n",
    "if s:\n",
    "    print('The string is not empty')\n",
    "if not s:\n",
    "    print('The string is empty')"
   ]
  },
  {
   "cell_type": "code",
   "execution_count": 14,
   "metadata": {},
   "outputs": [
    {
     "name": "stdout",
     "output_type": "stream",
     "text": [
      "The list is not empty\n"
     ]
    }
   ],
   "source": [
    "l = [2,3]\n",
    "if l:\n",
    "    print('The list is not empty')\n",
    "if not l:\n",
    "    print('The list is empty')"
   ]
  },
  {
   "cell_type": "markdown",
   "metadata": {},
   "source": [
    "### else"
   ]
  },
  {
   "cell_type": "code",
   "execution_count": 18,
   "metadata": {},
   "outputs": [
    {
     "name": "stdout",
     "output_type": "stream",
     "text": [
      "The number is not 5\n"
     ]
    }
   ],
   "source": [
    "n = 4\n",
    "if n==5:\n",
    "    print(\"The number is 5\")\n",
    "else:\n",
    "    print(\"The number is not 5\")"
   ]
  },
  {
   "cell_type": "code",
   "execution_count": 29,
   "metadata": {},
   "outputs": [
    {
     "name": "stdout",
     "output_type": "stream",
     "text": [
      "what is your name? peter\n",
      "Hi! My name is Peter too!\n"
     ]
    }
   ],
   "source": [
    "u = input(\"what is your name? \")\n",
    "if u == 'Peter' or u == 'peter':\n",
    "    print(\"Hi! My name is Peter too!\")\n",
    "else:\n",
    "    print(f\"Hi {u}!\")"
   ]
  },
  {
   "cell_type": "code",
   "execution_count": 37,
   "metadata": {},
   "outputs": [
    {
     "name": "stdout",
     "output_type": "stream",
     "text": [
      "Your name is Peter or peter\n",
      "Your name is Peter\n"
     ]
    }
   ],
   "source": [
    "name = \"Peter\"\n",
    "if name == \"peter\" or name == \"Peter\":\n",
    "    print(\"Your name is Peter or peter\")\n",
    "    if name == \"Peter\":\n",
    "        print('Your name is Peter')\n",
    "    if name == \"peter\":\n",
    "        print('Your name is peter')\n",
    "else:\n",
    "    print(f\"Hi {name}!\")"
   ]
  },
  {
   "cell_type": "code",
   "execution_count": 45,
   "metadata": {},
   "outputs": [
    {
     "name": "stdout",
     "output_type": "stream",
     "text": [
      "Enter a numberMaelle\n",
      "You didn't enter a number\n"
     ]
    }
   ],
   "source": [
    "n = input('Enter a number')\n",
    "if type(n)==int:\n",
    "    out = n + 2\n",
    "    if out > 4:\n",
    "        print(\"Your number plus two is greater than 4\")\n",
    "else:\n",
    "    print(\"You didn't enter a number\")"
   ]
  },
  {
   "cell_type": "markdown",
   "metadata": {},
   "source": [
    "### Elif"
   ]
  },
  {
   "cell_type": "code",
   "execution_count": 48,
   "metadata": {},
   "outputs": [
    {
     "name": "stdout",
     "output_type": "stream",
     "text": [
      "n is zero\n"
     ]
    }
   ],
   "source": [
    "n = 0\n",
    "if n<0:\n",
    "    print(\"n is negative\")\n",
    "elif n == 0:\n",
    "    print(\"n is zero\")\n",
    "else:\n",
    "    print(\"n is positive\")\n"
   ]
  },
  {
   "cell_type": "code",
   "execution_count": 55,
   "metadata": {},
   "outputs": [
    {
     "name": "stdout",
     "output_type": "stream",
     "text": [
      "I don't know that shape\n"
     ]
    }
   ],
   "source": [
    "shape = 'pentagon'\n",
    "if shape == 'square':\n",
    "    print('you selected a square')\n",
    "elif shape == 'triangle':\n",
    "    print('you selected a triangle')\n",
    "elif shape == 'hexagon':\n",
    "    print('you selected a hexigon')\n",
    "else:\n",
    "    print(\"I don't know that shape\")"
   ]
  },
  {
   "cell_type": "code",
   "execution_count": null,
   "metadata": {},
   "outputs": [],
   "source": []
  }
 ],
 "metadata": {
  "kernelspec": {
   "display_name": "Python 3",
   "language": "python",
   "name": "python3"
  },
  "language_info": {
   "codemirror_mode": {
    "name": "ipython",
    "version": 3
   },
   "file_extension": ".py",
   "mimetype": "text/x-python",
   "name": "python",
   "nbconvert_exporter": "python",
   "pygments_lexer": "ipython3",
   "version": "3.8.3"
  }
 },
 "nbformat": 4,
 "nbformat_minor": 4
}
