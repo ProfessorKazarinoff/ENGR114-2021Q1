{
 "cells": [
  {
   "cell_type": "markdown",
   "id": "least-nylon",
   "metadata": {},
   "source": [
    "# Week 9 Agenda"
   ]
  },
  {
   "cell_type": "markdown",
   "id": "swiss-joining",
   "metadata": {},
   "source": [
    "## Monday"
   ]
  },
  {
   "cell_type": "markdown",
   "id": "following-assist",
   "metadata": {},
   "source": [
    " * D2L, discuss lab 7, projects\n",
    " * Review if, elif, else\n",
    " * For Loops\n",
    " * Break\n",
    " * For Loop Examples\n",
    " * Break\n",
    " * While Loops and While Loop Examples\n",
    " * Wrap-Up. Project Reminders, Upload in-class notes"
   ]
  },
  {
   "cell_type": "markdown",
   "id": "graduate-freeze",
   "metadata": {},
   "source": [
    "## Wednesday"
   ]
  },
  {
   "cell_type": "markdown",
   "id": "equivalent-buffalo",
   "metadata": {},
   "source": [
    " * D2L, project updates\n",
    " * Review Loops\n",
    " * Lab Intro\n",
    " * Break\n",
    " * Start Lab\n",
    " * Break\n",
    " * Complete Lab\n",
    " * Wrap-Up, Project Reminders"
   ]
  },
  {
   "cell_type": "code",
   "execution_count": null,
   "id": "arbitrary-bunny",
   "metadata": {},
   "outputs": [],
   "source": []
  }
 ],
 "metadata": {
  "kernelspec": {
   "display_name": "Python 3",
   "language": "python",
   "name": "python3"
  },
  "language_info": {
   "codemirror_mode": {
    "name": "ipython",
    "version": 3
   },
   "file_extension": ".py",
   "mimetype": "text/x-python",
   "name": "python",
   "nbconvert_exporter": "python",
   "pygments_lexer": "ipython3",
   "version": "3.8.5"
  }
 },
 "nbformat": 4,
 "nbformat_minor": 5
}
