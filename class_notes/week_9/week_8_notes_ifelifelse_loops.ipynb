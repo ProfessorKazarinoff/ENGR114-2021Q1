{
 "cells": [
  {
   "cell_type": "markdown",
   "id": "historical-victor",
   "metadata": {},
   "source": [
    "# Week 8 Notes: Review if / else / elif and Loops"
   ]
  },
  {
   "cell_type": "markdown",
   "id": "furnished-johnson",
   "metadata": {},
   "source": [
    "## Review of if / elif / else"
   ]
  },
  {
   "cell_type": "code",
   "execution_count": 11,
   "id": "worldwide-viewer",
   "metadata": {},
   "outputs": [
    {
     "name": "stdout",
     "output_type": "stream",
     "text": [
      "What is the numeric score on the assignment? 100\n",
      "The letter grade is: A\n"
     ]
    }
   ],
   "source": [
    "# use if / else / elif to translate a number grade into a letter grade\n",
    "\n",
    "# ask the user for a number grade\n",
    "num_g = float(input('What is the numeric score on the assignment? '))\n",
    "\n",
    "# use if / elif / else to translate the grade into a letter\n",
    "if num_g >= 90:\n",
    "    let_g = 'A'\n",
    "elif num_g >= 80:\n",
    "    let_g = 'B'\n",
    "elif num_g >= 70:\n",
    "    let_g = 'C'\n",
    "elif num_g >= 65:\n",
    "    let_g = 'D'\n",
    "else:\n",
    "    let_g = 'F'\n",
    "    \n",
    "\n",
    "# print out the letter grade\n",
    "print(f\"The letter grade is: {let_g}\")"
   ]
  },
  {
   "cell_type": "markdown",
   "id": "talented-document",
   "metadata": {},
   "source": [
    "## For Loops"
   ]
  },
  {
   "cell_type": "code",
   "execution_count": 12,
   "id": "empty-lobby",
   "metadata": {},
   "outputs": [
    {
     "name": "stdout",
     "output_type": "stream",
     "text": [
      "It is sunny!\n",
      "It is sunny!\n",
      "It is sunny!\n"
     ]
    }
   ],
   "source": [
    "# tell the user the same thing 3 times\n",
    "print(\"It is sunny!\")\n",
    "print(\"It is sunny!\")\n",
    "print(\"It is sunny!\")"
   ]
  },
  {
   "cell_type": "markdown",
   "id": "potential-somewhere",
   "metadata": {},
   "source": [
    "### Python's range() function"
   ]
  },
  {
   "cell_type": "code",
   "execution_count": 22,
   "id": "through-sharp",
   "metadata": {},
   "outputs": [
    {
     "name": "stdout",
     "output_type": "stream",
     "text": [
      "[0, 10, 20, 30, 40, 50, 60, 70, 80, 90, 100]\n"
     ]
    }
   ],
   "source": [
    "a = list(range(0,110,10))\n",
    "print(a)"
   ]
  },
  {
   "cell_type": "markdown",
   "id": "martial-collapse",
   "metadata": {},
   "source": [
    "### For Loops using range()"
   ]
  },
  {
   "cell_type": "code",
   "execution_count": 23,
   "id": "combined-advocacy",
   "metadata": {},
   "outputs": [
    {
     "name": "stdout",
     "output_type": "stream",
     "text": [
      "It is sunny!\n",
      "It is sunny!\n",
      "It is sunny!\n"
     ]
    }
   ],
   "source": [
    "# tell the user the same thing 3 times\n",
    "for i in range(3):\n",
    "    print(\"It is sunny!\")"
   ]
  },
  {
   "cell_type": "code",
   "execution_count": 24,
   "id": "third-living",
   "metadata": {},
   "outputs": [
    {
     "name": "stdout",
     "output_type": "stream",
     "text": [
      "It is sunny!\n",
      "It is sunny!\n",
      "It is sunny!\n",
      "It is sunny!\n",
      "It is sunny!\n"
     ]
    }
   ],
   "source": [
    "# tell the user the same thing 5 times\n",
    "for i in range(5):\n",
    "    print(\"It is sunny!\")"
   ]
  },
  {
   "cell_type": "code",
   "execution_count": 28,
   "id": "hindu-player",
   "metadata": {},
   "outputs": [
    {
     "name": "stdout",
     "output_type": "stream",
     "text": [
      "It is sunny! 1 times\n",
      "It is sunny! 2 times\n",
      "It is sunny! 3 times\n",
      "It is sunny! 4 times\n",
      "It is sunny! 5 times\n"
     ]
    }
   ],
   "source": [
    "# tell the user the same time and the number time that they heard the statement\n",
    "for i in range(1,6):\n",
    "    print(f\"It is sunny! {i} times\")"
   ]
  },
  {
   "cell_type": "markdown",
   "id": "rising-carbon",
   "metadata": {},
   "source": [
    "### For loops using lists"
   ]
  },
  {
   "cell_type": "code",
   "execution_count": 30,
   "id": "resident-sunset",
   "metadata": {},
   "outputs": [
    {
     "name": "stdout",
     "output_type": "stream",
     "text": [
      "Look at the even numbers between 2 and 6 below:\n",
      "2\n",
      "4\n",
      "6\n"
     ]
    }
   ],
   "source": [
    "l = [2,4,6]\n",
    "print(\"Look at the even numbers between 2 and 6 below:\")\n",
    "for n in l:\n",
    "    print(n)"
   ]
  },
  {
   "cell_type": "code",
   "execution_count": 31,
   "id": "certified-active",
   "metadata": {},
   "outputs": [
    {
     "name": "stdout",
     "output_type": "stream",
     "text": [
      "one color is: red\n",
      "one color is: green\n",
      "one color is: blue\n"
     ]
    }
   ],
   "source": [
    "colors = ['red','green','blue']\n",
    "for color in colors:\n",
    "    print(f\"one color is: {color}\")"
   ]
  },
  {
   "cell_type": "markdown",
   "id": "patent-virtue",
   "metadata": {},
   "source": [
    "### For loops with strings"
   ]
  },
  {
   "cell_type": "code",
   "execution_count": 32,
   "id": "demographic-timothy",
   "metadata": {},
   "outputs": [
    {
     "name": "stdout",
     "output_type": "stream",
     "text": [
      "s\n",
      "u\n",
      "n\n",
      "n\n",
      "y\n",
      "!\n"
     ]
    }
   ],
   "source": [
    "# show the characters one by one in a string\n",
    "letters = 'sunny!'\n",
    "for letter in letters:\n",
    "    print(letter)"
   ]
  },
  {
   "cell_type": "code",
   "execution_count": 43,
   "id": "detailed-petroleum",
   "metadata": {},
   "outputs": [
    {
     "name": "stdout",
     "output_type": "stream",
     "text": [
      "S is uppercase\n",
      "u is lowercase\n",
      "n is lowercase\n",
      "n is lowercase\n",
      "y is lowercase\n",
      "y\n"
     ]
    }
   ],
   "source": [
    "# show the user which letters are uppercase and which letters are lowercase using a for loop\n",
    "s = 'Sunny'\n",
    "for l in s:\n",
    "    if l.isupper():\n",
    "        print(f\"{l} is uppercase\")\n",
    "    else:\n",
    "        print(f\"{l} is lowercase\")\n",
    "print(l)"
   ]
  },
  {
   "cell_type": "markdown",
   "id": "suspected-embassy",
   "metadata": {},
   "source": [
    "### For loops with enumerate()"
   ]
  },
  {
   "cell_type": "code",
   "execution_count": 45,
   "id": "incomplete-serbia",
   "metadata": {},
   "outputs": [
    {
     "name": "stdout",
     "output_type": "stream",
     "text": [
      "Animal 1 is dog\n",
      "Animal 2 is cat\n",
      "Animal 3 is bird\n"
     ]
    }
   ],
   "source": [
    "# use a indexing variable to get out the number of times a loop has run\n",
    "i = 1\n",
    "animals = ['dog','cat','bird']\n",
    "for animal in animals:\n",
    "    print(f\"Animal {i} is {animal}\")\n",
    "    i = i + 1"
   ]
  },
  {
   "cell_type": "code",
   "execution_count": 47,
   "id": "ongoing-heritage",
   "metadata": {},
   "outputs": [
    {
     "name": "stdout",
     "output_type": "stream",
     "text": [
      "Animal 1 is dog\n",
      "Animal 2 is cat\n",
      "Animal 3 is bird\n"
     ]
    }
   ],
   "source": [
    "# Run the same operation above using Python's enumerate() function\n",
    "animals = ['dog','cat','bird']\n",
    "for i, animal in enumerate(animals):\n",
    "    print(f\"Animal {i+1} is {animal}\")"
   ]
  },
  {
   "cell_type": "code",
   "execution_count": 50,
   "id": "lightweight-means",
   "metadata": {},
   "outputs": [
    {
     "name": "stdout",
     "output_type": "stream",
     "text": [
      "Degrees: 0   Radians: zero\n",
      "Degrees: 90  Radians: pi/2\n",
      "Degrees: 180 Radians: pi\n",
      "Degrees: 270 Radians: 2pi/3\n",
      "Degrees: 360 Radians: 2pi\n"
     ]
    }
   ],
   "source": [
    "angles_d = [0,90,180,270,360]\n",
    "angles_r = ['zero','pi/2','pi','2pi/3','2pi']\n",
    "for i, angle_d in enumerate(angles_d):\n",
    "    angle_r = angles_r[i]\n",
    "    if angle_d <=9:\n",
    "        space =\"  \"\n",
    "    elif angle_d <= 99:\n",
    "        space =\" \"\n",
    "    else:\n",
    "        space =\"\"\n",
    "    print(f\"Degrees: {angle_d}{space} Radians: {angle_r}\")"
   ]
  },
  {
   "cell_type": "markdown",
   "id": "suspected-hopkins",
   "metadata": {},
   "source": [
    "## While Loops"
   ]
  },
  {
   "cell_type": "markdown",
   "id": "superior-lewis",
   "metadata": {},
   "source": [
    "### While loops based on a logical condition using an index"
   ]
  },
  {
   "cell_type": "code",
   "execution_count": 52,
   "id": "inclusive-hearts",
   "metadata": {},
   "outputs": [
    {
     "name": "stdout",
     "output_type": "stream",
     "text": [
      "1\n",
      "2\n",
      "3\n",
      "The while loop is finished\n"
     ]
    }
   ],
   "source": [
    "# run a while loop to count up to 3\n",
    "i = 1\n",
    "while i<=3:\n",
    "    print(i)\n",
    "    i = i + 1\n",
    "print(\"The while loop is finished\")"
   ]
  },
  {
   "cell_type": "markdown",
   "id": "backed-proposal",
   "metadata": {},
   "source": [
    "## While loop to validate user input"
   ]
  },
  {
   "cell_type": "code",
   "execution_count": 55,
   "id": "fifteen-credits",
   "metadata": {},
   "outputs": [
    {
     "name": "stdout",
     "output_type": "stream",
     "text": [
      "Enter a number between 0 and 10-5\n",
      "Enter a number between 0 and 10100\n",
      "Enter a number between 0 and 10-59\n",
      "Enter a number between 0 and 1026\n",
      "Enter a number between 0 and 104\n",
      "You entered a valid number: 4.0\n"
     ]
    }
   ],
   "source": [
    "# ask the user for a number between 0 and 10,\n",
    "# and we'll keep asking the user for a number until a valid number is entered\n",
    "\n",
    "# set the input invalid\n",
    "num = -2\n",
    "# run while loop while the input is invalid\n",
    "while (num < 0 or num > 10):\n",
    "    # ask the user for valid input\n",
    "    num = float(input('Enter a number between 0 and 10'))\n",
    "    \n",
    "# tell the user the input is valid\n",
    "print(f\"You entered a valid number: {num}\")"
   ]
  },
  {
   "cell_type": "code",
   "execution_count": 57,
   "id": "existing-greensboro",
   "metadata": {},
   "outputs": [
    {
     "name": "stdout",
     "output_type": "stream",
     "text": [
      "What's the weather today? (rain, sun, snow, or cloudy): meatballs\n",
      "What's the weather today? (rain, sun, snow, or cloudy): raisins\n",
      "What's the weather today? (rain, sun, snow, or cloudy): apples\n",
      "What's the weather today? (rain, sun, snow, or cloudy): sun\n",
      "The weather today is: sun\n"
     ]
    }
   ],
   "source": [
    "# use a while loop to validate a weather type as \"rain\",\"snow\",\"sun\",\"cloudy\"\n",
    "\n",
    "# set invalid input\n",
    "w_types = ['rain','snow','sun','cloudy']\n",
    "w_type = 'meatballs'\n",
    "\n",
    "# while input is invalid (while not what I want)\n",
    "while not w_type in w_types:\n",
    "    # ask user for a valid weather type\n",
    "    w_type = input(\"What's the weather today? (rain, sun, snow, or cloudy): \")\n",
    "    \n",
    "# print out what the weather is like today\n",
    "print(f\"The weather today is: {w_type}\")"
   ]
  },
  {
   "cell_type": "markdown",
   "id": "virtual-repeat",
   "metadata": {},
   "source": [
    "### Example from the worksheet on D2L"
   ]
  },
  {
   "cell_type": "markdown",
   "id": "eight-administration",
   "metadata": {},
   "source": [
    "Write a section of Python code that produces a list B which contains the values 10 20 30 40. Do this using a while loop. Note that the code B.append(<num>) will add the value <num> to the list B and increase the number of elements in B by one."
   ]
  },
  {
   "cell_type": "code",
   "execution_count": 58,
   "id": "quantitative-swiss",
   "metadata": {},
   "outputs": [
    {
     "name": "stdout",
     "output_type": "stream",
     "text": [
      "[10, 20, 30, 40]\n"
     ]
    }
   ],
   "source": [
    "# set num = 0\n",
    "num = 10\n",
    "# set B = [] , an empty list\n",
    "B = []\n",
    "\n",
    "# while loop, run as long as num isn't above 40\n",
    "while num<=40:\n",
    "    # append list B with the new number\n",
    "    B.append(num)\n",
    "    # add 10 to num to get the next number\n",
    "    num = num + 10\n",
    "    \n",
    "print(B)"
   ]
  },
  {
   "cell_type": "code",
   "execution_count": 59,
   "id": "uniform-lawyer",
   "metadata": {},
   "outputs": [
    {
     "name": "stdout",
     "output_type": "stream",
     "text": [
      "[1, 20, 3]\n"
     ]
    }
   ],
   "source": [
    "l = [1,2,3] # change the 2nd element 2 to the number 20\n",
    "for i,n in enumerate(l):\n",
    "    if i==1:\n",
    "        l[i]=20\n",
    "    \n",
    "print(l)"
   ]
  },
  {
   "cell_type": "code",
   "execution_count": 60,
   "id": "cross-wrist",
   "metadata": {},
   "outputs": [
    {
     "data": {
      "text/plain": [
       "[1, 20, 50]"
      ]
     },
     "execution_count": 60,
     "metadata": {},
     "output_type": "execute_result"
    }
   ],
   "source": [
    "l[2] = 50\n",
    "l"
   ]
  },
  {
   "cell_type": "code",
   "execution_count": null,
   "id": "interracial-pendant",
   "metadata": {},
   "outputs": [],
   "source": []
  }
 ],
 "metadata": {
  "kernelspec": {
   "display_name": "Python 3",
   "language": "python",
   "name": "python3"
  },
  "language_info": {
   "codemirror_mode": {
    "name": "ipython",
    "version": 3
   },
   "file_extension": ".py",
   "mimetype": "text/x-python",
   "name": "python",
   "nbconvert_exporter": "python",
   "pygments_lexer": "ipython3",
   "version": "3.8.5"
  }
 },
 "nbformat": 4,
 "nbformat_minor": 5
}
