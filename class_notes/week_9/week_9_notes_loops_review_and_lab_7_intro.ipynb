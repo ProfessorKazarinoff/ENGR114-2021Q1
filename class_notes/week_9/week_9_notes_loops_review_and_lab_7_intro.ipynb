{
 "cells": [
  {
   "cell_type": "markdown",
   "id": "solar-lindsay",
   "metadata": {},
   "source": [
    "# Week 9 Notes: Loops Review and Lab 7 Intro"
   ]
  },
  {
   "cell_type": "markdown",
   "id": "gross-livestock",
   "metadata": {},
   "source": [
    "## Loops Review"
   ]
  },
  {
   "cell_type": "markdown",
   "id": "personal-driving",
   "metadata": {},
   "source": [
    "### Use a for loop to code the Fibonacci Sequence"
   ]
  },
  {
   "cell_type": "markdown",
   "id": "limited-drill",
   "metadata": {},
   "source": [
    "The first 10 terms of the Fibonacci sequence are below:\n",
    "\n",
    "```\n",
    "1, 1, 2, 3, 5, 8, 13, 21, 34, 55\n",
    "```\n",
    "\n",
    "Create the Fibonacci sequence using a for loop. Print out the first 20 terms of the Fibonacci sequence on one line."
   ]
  },
  {
   "cell_type": "code",
   "execution_count": 1,
   "id": "mature-slide",
   "metadata": {},
   "outputs": [
    {
     "name": "stdout",
     "output_type": "stream",
     "text": [
      "[1, 1, 2, 3, 5, 8, 13, 21, 34, 55, 89, 144, 233, 377, 610, 987, 1597, 2584, 4181, 6765]\n"
     ]
    }
   ],
   "source": [
    "fib = [1,1]\n",
    "for i in range(18):\n",
    "    new_n = fib[-2] + fib[-1]\n",
    "    fib.append(new_n)\n",
    "    \n",
    "print(fib)"
   ]
  },
  {
   "cell_type": "code",
   "execution_count": 2,
   "id": "fatty-mitchell",
   "metadata": {},
   "outputs": [
    {
     "data": {
      "text/plain": [
       "20"
      ]
     },
     "execution_count": 2,
     "metadata": {},
     "output_type": "execute_result"
    }
   ],
   "source": [
    "len(fib)"
   ]
  },
  {
   "cell_type": "markdown",
   "id": "empty-subscription",
   "metadata": {},
   "source": [
    "### Use a while loop to complete a calculation of a geometric series"
   ]
  },
  {
   "cell_type": "markdown",
   "id": "ruled-prevention",
   "metadata": {},
   "source": [
    "A geometric series is a series that has a common ratio between the terms. The sum of the geometric series that starts at 1/2 and has a common ratio of 1/2 approaches the value 1.\n",
    "\n",
    "The formula that shows the sum of a geometric series which approaches 1 is below.\n",
    "\n",
    "1 = 1/2 + 1/4 + 1/8 + 1/16 ...\n",
    "\n",
    "Use the geometric series above to approximate the value of 1 after 10 terms are added. Print out how far off the geometric series approximation is to 1."
   ]
  },
  {
   "cell_type": "code",
   "execution_count": 3,
   "id": "coordinated-lodge",
   "metadata": {},
   "outputs": [
    {
     "name": "stdout",
     "output_type": "stream",
     "text": [
      "The geometric series approximation using 10 terms is off by: 0.0009765625\n"
     ]
    }
   ],
   "source": [
    "i = 1\n",
    "approx = 0\n",
    "\n",
    "while i<=10:\n",
    "    term = 1/(2**i)\n",
    "    approx = approx + term\n",
    "    i = i + 1\n",
    "print(f\"The geometric series approximation using 10 terms is off by: {1-approx}\")"
   ]
  },
  {
   "cell_type": "code",
   "execution_count": 4,
   "id": "contemporary-inside",
   "metadata": {},
   "outputs": [
    {
     "name": "stdout",
     "output_type": "stream",
     "text": [
      "2\n"
     ]
    }
   ],
   "source": [
    "# note: The .pop() method removes the last value\n",
    "# or a specific value based on index from a list\n",
    "l = [1,2,3]\n",
    "s = l.pop(1)\n",
    "print(s)"
   ]
  },
  {
   "cell_type": "markdown",
   "id": "ambient-rhythm",
   "metadata": {},
   "source": [
    "## Lab 7 Intro: Numerical Methods"
   ]
  },
  {
   "cell_type": "markdown",
   "id": "amber-collectible",
   "metadata": {},
   "source": [
    "### Prototype the exp_taylor() function, the function that calculates exp(x) using a Taylor Series"
   ]
  },
  {
   "cell_type": "code",
   "execution_count": 5,
   "id": "demographic-buffalo",
   "metadata": {},
   "outputs": [
    {
     "data": {
      "text/plain": [
       "148.4131591025766"
      ]
     },
     "execution_count": 5,
     "metadata": {},
     "output_type": "execute_result"
    }
   ],
   "source": [
    "import math\n",
    "math.exp(5)"
   ]
  },
  {
   "cell_type": "code",
   "execution_count": 6,
   "id": "consistent-behalf",
   "metadata": {},
   "outputs": [],
   "source": [
    "import math\n",
    "\n",
    "def taylor_exp(x, n_terms):\n",
    "    approx = 0\n",
    "    for i in range(n_terms):\n",
    "        term = (x**i)/(math.factorial(i))\n",
    "        approx = approx + term\n",
    "    return approx"
   ]
  },
  {
   "cell_type": "code",
   "execution_count": 7,
   "id": "pediatric-stewart",
   "metadata": {},
   "outputs": [
    {
     "data": {
      "text/plain": [
       "143.68945656966488"
      ]
     },
     "execution_count": 7,
     "metadata": {},
     "output_type": "execute_result"
    }
   ],
   "source": [
    "taylor_exp(5,10)"
   ]
  },
  {
   "cell_type": "markdown",
   "id": "liable-format",
   "metadata": {},
   "source": [
    "### Prototype the taylor_sin() function, the function that calculates sin(x) using a Taylor Series"
   ]
  },
  {
   "cell_type": "code",
   "execution_count": 8,
   "id": "dated-reunion",
   "metadata": {},
   "outputs": [
    {
     "data": {
      "text/plain": [
       "0.49999999999999994"
      ]
     },
     "execution_count": 8,
     "metadata": {},
     "output_type": "execute_result"
    }
   ],
   "source": [
    "import math\n",
    "r = math.radians(30)\n",
    "math.sin(r)"
   ]
  },
  {
   "cell_type": "code",
   "execution_count": 9,
   "id": "neither-valve",
   "metadata": {},
   "outputs": [],
   "source": [
    "import math\n",
    "\n",
    "def taylor_sin(x, n_terms):\n",
    "    approx = 0\n",
    "    for i in range(n_terms):\n",
    "        coeff = (-1)**i\n",
    "        num = x**(2*i+1)\n",
    "        denom = math.factorial(2*i+1)\n",
    "        term = coeff*num/denom\n",
    "        approx = approx + term\n",
    "    return approx\n",
    "    "
   ]
  },
  {
   "cell_type": "code",
   "execution_count": 10,
   "id": "logical-electricity",
   "metadata": {},
   "outputs": [
    {
     "data": {
      "text/plain": [
       "0.5000000000202799"
      ]
     },
     "execution_count": 10,
     "metadata": {},
     "output_type": "execute_result"
    }
   ],
   "source": [
    "taylor_sin(math.radians(30),5)"
   ]
  },
  {
   "cell_type": "markdown",
   "id": "controversial-logistics",
   "metadata": {},
   "source": [
    "### Prototype the taylor() function within a Jupyter notebook. The taylor function will use the taylor_exp() or taylor_sin() functions depending on which function the user asks for."
   ]
  },
  {
   "cell_type": "code",
   "execution_count": 11,
   "id": "enhanced-visiting",
   "metadata": {},
   "outputs": [],
   "source": [
    "def taylor(func, x, terms=10):\n",
    "    # check the input to make sure it's valid\n",
    "    if not (func=='sin' or func =='exp'):\n",
    "        raise Exception('func should be \"sin\" or \"exp\" ')\n",
    "    if not (-50<=x<=50):\n",
    "        raise Exception(\"x must be between -50 and 50\")\n",
    "    if not ((1<=terms<=50) and (terms % 1 == 0 )):\n",
    "        raise Exception(\"x must be a whole number between 1 and 50\")\n",
    "    int_terms = int(terms)  # convert the terms varible to an integer\n",
    "    if func == 'exp':\n",
    "        out = taylor_exp(x, int_terms)\n",
    "    if func == 'sin':\n",
    "        out = taylor_sin(x, int_terms)\n",
    "        \n",
    "    return out"
   ]
  },
  {
   "cell_type": "code",
   "execution_count": 12,
   "id": "atlantic-wedding",
   "metadata": {
    "scrolled": true
   },
   "outputs": [
    {
     "name": "stdout",
     "output_type": "stream",
     "text": [
      "actual sin(30*): 0.49999999999999994\n",
      "taylor series approximation sin 30*: 0.49999999999999994\n",
      "actual e^2: 7.38905609893065\n",
      "taylor series approximation e^2 : 7.389056098930649\n"
     ]
    }
   ],
   "source": [
    "import math\n",
    "\n",
    "t_sin_approx = taylor('sin', math.radians(30), 20)\n",
    "m_sin = math.sin(math.radians(30))\n",
    "t_exp_approx = taylor('exp', 2, 23)\n",
    "m_exp = math.exp(2)\n",
    "\n",
    "print(f\"actual sin(30*): {m_sin}\")\n",
    "print(f\"taylor series approximation sin 30*: {t_sin_approx}\")\n",
    "print(f\"actual e^2: {m_exp}\")\n",
    "print(f\"taylor series approximation e^2 : {t_exp_approx}\")"
   ]
  }
 ],
 "metadata": {
  "kernelspec": {
   "display_name": "Python 3",
   "language": "python",
   "name": "python3"
  },
  "language_info": {
   "codemirror_mode": {
    "name": "ipython",
    "version": 3
   },
   "file_extension": ".py",
   "mimetype": "text/x-python",
   "name": "python",
   "nbconvert_exporter": "python",
   "pygments_lexer": "ipython3",
   "version": "3.8.5"
  }
 },
 "nbformat": 4,
 "nbformat_minor": 5
}
