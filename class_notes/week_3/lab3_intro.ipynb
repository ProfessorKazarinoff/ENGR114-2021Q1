{
 "cells": [
  {
   "cell_type": "markdown",
   "metadata": {},
   "source": [
    "# Lab 3 Intro - Sifting Weather Data\n",
    "\n",
    " * Peter Kazarinoff\n",
    " * ENGR114 2021Q1\n",
    " * 2010-01-20"
   ]
  },
  {
   "cell_type": "code",
   "execution_count": 1,
   "metadata": {},
   "outputs": [
    {
     "name": "stdout",
     "output_type": "stream",
     "text": [
      " Volume in drive C is OS\n",
      " Volume Serial Number is 1236-A93E\n",
      "\n",
      " Directory of C:\\Users\\peter.kazarinoff\\Documents\\ENGR114-2021Q1\\class_notes\\week_3\n",
      "\n",
      "01/20/2021  11:39 AM    <DIR>          .\n",
      "01/20/2021  11:39 AM    <DIR>          ..\n",
      "01/20/2021  11:39 AM    <DIR>          .ipynb_checkpoints\n",
      "01/20/2021  11:39 AM                72 lab3_intro.ipynb\n",
      "01/20/2021  11:35 AM            10,204 weather_data.xlsx\n",
      "01/20/2021  09:13 AM               955 Week_3_Agenda.ipynb\n",
      "01/20/2021  11:31 AM            39,846 week_3_notes_NumPy_and_Arrays.ipynb\n",
      "               4 File(s)         51,077 bytes\n",
      "               3 Dir(s)  99,518,193,664 bytes free\n"
     ]
    }
   ],
   "source": [
    "# make sure the .xlsx data file is in the same directory as the running jupyter notebook\n",
    "%ls"
   ]
  },
  {
   "cell_type": "code",
   "execution_count": 2,
   "metadata": {},
   "outputs": [],
   "source": [
    "# imports\n",
    "import numpy as np\n",
    "import pandas as pd     # can be installed at the cmd prompt with: pip install pandas"
   ]
  },
  {
   "cell_type": "code",
   "execution_count": 8,
   "metadata": {},
   "outputs": [],
   "source": [
    "# bring in the data from the excel file and save it in a pandas dataframe\n",
    "df = pd.read_excel('weather_data.xlsx', header=None)"
   ]
  },
  {
   "cell_type": "code",
   "execution_count": 9,
   "metadata": {},
   "outputs": [
    {
     "name": "stdout",
     "output_type": "stream",
     "text": [
      "(12, 31)\n"
     ]
    }
   ],
   "source": [
    "# make sure the dataframe is 12 x 31\n",
    "print(df.shape)"
   ]
  },
  {
   "cell_type": "code",
   "execution_count": 10,
   "metadata": {},
   "outputs": [],
   "source": [
    "# turn the pandas dataframe into a numpy array\n",
    "wd = np.array(df)"
   ]
  },
  {
   "cell_type": "code",
   "execution_count": 11,
   "metadata": {},
   "outputs": [
    {
     "name": "stdout",
     "output_type": "stream",
     "text": [
      "(12, 31)\n"
     ]
    }
   ],
   "source": [
    "# check the shape of the array wd\n",
    "print(wd.shape)"
   ]
  },
  {
   "cell_type": "code",
   "execution_count": 7,
   "metadata": {},
   "outputs": [
    {
     "name": "stdout",
     "output_type": "stream",
     "text": [
      "[[     0      0    272      0      0      0      0      9     26      1\n",
      "       0      0      0     50     85      0      0     90      9      0\n",
      "       0      1     15    224      0      0      0      0      0     33\n",
      "      33]\n",
      " [    61    103      0      2      0      0      0      2      0     68\n",
      "       3      3      1      0      0      0      1    135      3     66\n",
      "       0      0      0      5      0      0      0     62 -99999 -99999\n",
      "  -99999]\n",
      " [     2      0     17     27      0     10      0      0     30     25\n",
      "       0      0      0     45     70      0      0      0      0      0\n",
      "      27     26      0      0      9      6     78      0      5      8\n",
      "       0]\n",
      " [   260      1      0      0      0      1      3      0      5      0\n",
      "       0      0      0      0     10     51      0      0      0      0\n",
      "       0      0      0      0      0      9     35     13     86      0\n",
      "  -99999]\n",
      " [    47      0      0      0      5    115     49     81      0      0\n",
      "       0      0      1     10      1      0      0      0     10      0\n",
      "       0      0      0      0      0      0      2      0      0      0\n",
      "       0]\n",
      " [     0      0     30     42      0      0      0      0      0      0\n",
      "       0      0      0      0      0     97    133      0      0      0\n",
      "       0      0      2      2    240     16     35     14     14      8\n",
      "  -99999]\n",
      " [     0      0      0      0      0      0      0      7      0      0\n",
      "      58    157     52      0      0      0      0      0      7      0\n",
      "      21      0      0      0     10      0      0      5      0      0\n",
      "       0]\n",
      " [     0     45      0      0      0      0      0      0      5      0\n",
      "       0      0      0      6      0      0      0      0      0      0\n",
      "       1      0      0    158     62      1      0      0      0      0\n",
      "       0]\n",
      " [     0      0      0      0      0      0      0      0      0      0\n",
      "       0      0      0      0      0      0      0      0      0      0\n",
      "       0     37      0      0      0      0      6    138     58     10\n",
      "  -99999]\n",
      " [     0      0      0     14    156      0      0      0      0    110\n",
      "     130      0     14     19      0      0      0      0      0     30\n",
      "      92      0      0      0      0      0      0      0      0      0\n",
      "       1]\n",
      " [     1    163      5      0      0      0      0      0      0      0\n",
      "       0      1      0      0      0      0      0      0      0      1\n",
      "      26      0      2      2     10    255      2      0      0      0\n",
      "  -99999]\n",
      " [     0      0      0      0      0     45      0      0      0     15\n",
      "      37      0     36     97      0      0      0      0      0     20\n",
      "       2     34      0      0      0      0      0      0      0      0\n",
      "       0]]\n"
     ]
    }
   ],
   "source": [
    "print(wd)"
   ]
  },
  {
   "cell_type": "code",
   "execution_count": 12,
   "metadata": {},
   "outputs": [],
   "source": [
    "# multiply by 0.01 to get inches of rain (instead of 100th's of inches)\n",
    "wd = wd*0.01"
   ]
  },
  {
   "cell_type": "code",
   "execution_count": 13,
   "metadata": {},
   "outputs": [
    {
     "name": "stdout",
     "output_type": "stream",
     "text": [
      "[ 6.1000e-01  1.0300e+00  0.0000e+00  2.0000e-02  0.0000e+00  0.0000e+00\n",
      "  0.0000e+00  2.0000e-02  0.0000e+00  6.8000e-01  3.0000e-02  3.0000e-02\n",
      "  1.0000e-02  0.0000e+00  0.0000e+00  0.0000e+00  1.0000e-02  1.3500e+00\n",
      "  3.0000e-02  6.6000e-01  0.0000e+00  0.0000e+00  0.0000e+00  5.0000e-02\n",
      "  0.0000e+00  0.0000e+00  0.0000e+00  6.2000e-01 -9.9999e+02 -9.9999e+02\n",
      " -9.9999e+02]\n"
     ]
    }
   ],
   "source": [
    "# set the month to January and pull out just the january data with slicing\n",
    "m = 1\n",
    "md = wd[1,:]\n",
    "print(md)"
   ]
  },
  {
   "cell_type": "code",
   "execution_count": null,
   "metadata": {},
   "outputs": [],
   "source": []
  }
 ],
 "metadata": {
  "kernelspec": {
   "display_name": "Python 3",
   "language": "python",
   "name": "python3"
  },
  "language_info": {
   "codemirror_mode": {
    "name": "ipython",
    "version": 3
   },
   "file_extension": ".py",
   "mimetype": "text/x-python",
   "name": "python",
   "nbconvert_exporter": "python",
   "pygments_lexer": "ipython3",
   "version": "3.8.3"
  }
 },
 "nbformat": 4,
 "nbformat_minor": 4
}
