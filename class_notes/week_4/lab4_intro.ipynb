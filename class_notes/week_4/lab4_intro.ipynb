{
 "cells": [
  {
   "cell_type": "markdown",
   "metadata": {},
   "source": [
    "# Lab 4 Plotting Weather Data (intro)"
   ]
  },
  {
   "cell_type": "markdown",
   "metadata": {},
   "source": [
    " * Name: Instructor Intro\n",
    " * Course: ENGR114\n",
    " * Quarter: Winter 2021\n",
    " * Date: 2021-01-27"
   ]
  },
  {
   "cell_type": "markdown",
   "metadata": {},
   "source": [
    "#### Ensure the .xlsx data file is in the same location as this running Jupyter notebook"
   ]
  },
  {
   "cell_type": "code",
   "execution_count": 1,
   "metadata": {},
   "outputs": [
    {
     "name": "stdout",
     "output_type": "stream",
     "text": [
      " Volume in drive C is OS\n",
      " Volume Serial Number is 1236-A93E\n",
      "\n",
      " Directory of C:\\Users\\peter.kazarinoff\\Documents\\ENGR114-2021Q1\\class_notes\\week_4\n",
      "\n",
      "01/27/2021  12:04 PM    <DIR>          .\n",
      "01/27/2021  12:04 PM    <DIR>          ..\n",
      "01/27/2021  11:16 AM    <DIR>          .ipynb_checkpoints\n",
      "01/27/2021  11:08 AM            30,579 4-subplots.png\n",
      "01/27/2021  09:15 AM             1,449 Agenda_week_4.ipynb\n",
      "01/25/2021  12:08 PM            11,114 bar_plot.png\n",
      "01/27/2021  11:08 AM            19,786 bond_energy_vs_distance.png\n",
      "01/27/2021  11:10 AM            57,586 govt_camp_2013_01_to_2016_03.xlsx\n",
      "01/27/2021  11:08 AM             8,442 historgram.png\n",
      "01/27/2021  12:04 PM            45,536 lab4_intro.ipynb\n",
      "01/27/2021  12:04 PM            24,095 lab4_line_plot.png\n",
      "01/25/2021  12:08 PM            14,776 pie_chart.png\n",
      "01/25/2021  12:08 PM           168,384 plot_of_sin_and_cos.png\n",
      "01/25/2021  12:09 PM            98,673 week_4_notes_fstrings_arrays_plotting.ipynb\n",
      "01/27/2021  11:08 AM            95,307 week_4_notes_plotting_histograms_yyplots_subplots.ipynb\n",
      "01/27/2021  11:08 AM           117,379 yy-plot.png\n",
      "              13 File(s)        693,106 bytes\n",
      "               3 Dir(s)  78,499,557,376 bytes free\n"
     ]
    }
   ],
   "source": [
    "%ls"
   ]
  },
  {
   "cell_type": "markdown",
   "metadata": {},
   "source": [
    "## Imports"
   ]
  },
  {
   "cell_type": "code",
   "execution_count": 2,
   "metadata": {},
   "outputs": [],
   "source": [
    "import numpy as np\n",
    "import pandas as pd\n",
    "import matplotlib.pyplot as plt\n",
    "%matplotlib inline"
   ]
  },
  {
   "cell_type": "markdown",
   "metadata": {},
   "source": [
    "## Import the .xlsx data into the notebook and save it as a dataframe"
   ]
  },
  {
   "cell_type": "code",
   "execution_count": 3,
   "metadata": {},
   "outputs": [
    {
     "data": {
      "text/html": [
       "<div>\n",
       "<style scoped>\n",
       "    .dataframe tbody tr th:only-of-type {\n",
       "        vertical-align: middle;\n",
       "    }\n",
       "\n",
       "    .dataframe tbody tr th {\n",
       "        vertical-align: top;\n",
       "    }\n",
       "\n",
       "    .dataframe thead th {\n",
       "        text-align: right;\n",
       "    }\n",
       "</style>\n",
       "<table border=\"1\" class=\"dataframe\">\n",
       "  <thead>\n",
       "    <tr style=\"text-align: right;\">\n",
       "      <th></th>\n",
       "      <th>STATION</th>\n",
       "      <th>STATION_NAME</th>\n",
       "      <th>DATE</th>\n",
       "      <th>Precipitation\\n(inches)</th>\n",
       "      <th>Snow Depth\\n(inches)</th>\n",
       "      <th>Snowfall\\n(inches)</th>\n",
       "      <th>Max Temp (°F)</th>\n",
       "      <th>Min Temp (°F)</th>\n",
       "    </tr>\n",
       "  </thead>\n",
       "  <tbody>\n",
       "    <tr>\n",
       "      <th>0</th>\n",
       "      <td>GHCND:USC00353402</td>\n",
       "      <td>GOVERNMENT CAMP OR US</td>\n",
       "      <td>20130101</td>\n",
       "      <td>0.00</td>\n",
       "      <td>44</td>\n",
       "      <td>0.0</td>\n",
       "      <td>29</td>\n",
       "      <td>12</td>\n",
       "    </tr>\n",
       "    <tr>\n",
       "      <th>1</th>\n",
       "      <td>GHCND:USC00353402</td>\n",
       "      <td>GOVERNMENT CAMP OR US</td>\n",
       "      <td>20130102</td>\n",
       "      <td>0.01</td>\n",
       "      <td>42</td>\n",
       "      <td>0.0</td>\n",
       "      <td>27</td>\n",
       "      <td>11</td>\n",
       "    </tr>\n",
       "    <tr>\n",
       "      <th>2</th>\n",
       "      <td>GHCND:USC00353402</td>\n",
       "      <td>GOVERNMENT CAMP OR US</td>\n",
       "      <td>20130103</td>\n",
       "      <td>0.00</td>\n",
       "      <td>42</td>\n",
       "      <td>0.0</td>\n",
       "      <td>20</td>\n",
       "      <td>12</td>\n",
       "    </tr>\n",
       "    <tr>\n",
       "      <th>3</th>\n",
       "      <td>GHCND:USC00353402</td>\n",
       "      <td>GOVERNMENT CAMP OR US</td>\n",
       "      <td>20130104</td>\n",
       "      <td>0.16</td>\n",
       "      <td>41</td>\n",
       "      <td>0.0</td>\n",
       "      <td>31</td>\n",
       "      <td>14</td>\n",
       "    </tr>\n",
       "    <tr>\n",
       "      <th>4</th>\n",
       "      <td>GHCND:USC00353402</td>\n",
       "      <td>GOVERNMENT CAMP OR US</td>\n",
       "      <td>20130105</td>\n",
       "      <td>0.00</td>\n",
       "      <td>41</td>\n",
       "      <td>0.0</td>\n",
       "      <td>37</td>\n",
       "      <td>28</td>\n",
       "    </tr>\n",
       "  </tbody>\n",
       "</table>\n",
       "</div>"
      ],
      "text/plain": [
       "             STATION           STATION_NAME      DATE  \\\n",
       "0  GHCND:USC00353402  GOVERNMENT CAMP OR US  20130101   \n",
       "1  GHCND:USC00353402  GOVERNMENT CAMP OR US  20130102   \n",
       "2  GHCND:USC00353402  GOVERNMENT CAMP OR US  20130103   \n",
       "3  GHCND:USC00353402  GOVERNMENT CAMP OR US  20130104   \n",
       "4  GHCND:USC00353402  GOVERNMENT CAMP OR US  20130105   \n",
       "\n",
       "   Precipitation\\n(inches)  Snow Depth\\n(inches)  Snowfall\\n(inches)  \\\n",
       "0                     0.00                    44                 0.0   \n",
       "1                     0.01                    42                 0.0   \n",
       "2                     0.00                    42                 0.0   \n",
       "3                     0.16                    41                 0.0   \n",
       "4                     0.00                    41                 0.0   \n",
       "\n",
       "   Max Temp (°F)  Min Temp (°F)  \n",
       "0             29             12  \n",
       "1             27             11  \n",
       "2             20             12  \n",
       "3             31             14  \n",
       "4             37             28  "
      ]
     },
     "execution_count": 3,
     "metadata": {},
     "output_type": "execute_result"
    }
   ],
   "source": [
    "df = pd.read_excel('govt_camp_2013_01_to_2016_03.xlsx')\n",
    "df.head()"
   ]
  },
  {
   "cell_type": "markdown",
   "metadata": {},
   "source": [
    "## Clean up the data so that we have columns for: year, month, date, precip, snow depth, snow fall, max temp, min temp"
   ]
  },
  {
   "cell_type": "code",
   "execution_count": 4,
   "metadata": {},
   "outputs": [
    {
     "data": {
      "text/html": [
       "<div>\n",
       "<style scoped>\n",
       "    .dataframe tbody tr th:only-of-type {\n",
       "        vertical-align: middle;\n",
       "    }\n",
       "\n",
       "    .dataframe tbody tr th {\n",
       "        vertical-align: top;\n",
       "    }\n",
       "\n",
       "    .dataframe thead th {\n",
       "        text-align: right;\n",
       "    }\n",
       "</style>\n",
       "<table border=\"1\" class=\"dataframe\">\n",
       "  <thead>\n",
       "    <tr style=\"text-align: right;\">\n",
       "      <th></th>\n",
       "      <th>DATE</th>\n",
       "      <th>Precipitation\\n(inches)</th>\n",
       "      <th>Snow Depth\\n(inches)</th>\n",
       "      <th>Snowfall\\n(inches)</th>\n",
       "      <th>Max Temp (°F)</th>\n",
       "      <th>Min Temp (°F)</th>\n",
       "    </tr>\n",
       "  </thead>\n",
       "  <tbody>\n",
       "    <tr>\n",
       "      <th>0</th>\n",
       "      <td>20130101</td>\n",
       "      <td>0.00</td>\n",
       "      <td>44</td>\n",
       "      <td>0.0</td>\n",
       "      <td>29</td>\n",
       "      <td>12</td>\n",
       "    </tr>\n",
       "    <tr>\n",
       "      <th>1</th>\n",
       "      <td>20130102</td>\n",
       "      <td>0.01</td>\n",
       "      <td>42</td>\n",
       "      <td>0.0</td>\n",
       "      <td>27</td>\n",
       "      <td>11</td>\n",
       "    </tr>\n",
       "    <tr>\n",
       "      <th>2</th>\n",
       "      <td>20130103</td>\n",
       "      <td>0.00</td>\n",
       "      <td>42</td>\n",
       "      <td>0.0</td>\n",
       "      <td>20</td>\n",
       "      <td>12</td>\n",
       "    </tr>\n",
       "    <tr>\n",
       "      <th>3</th>\n",
       "      <td>20130104</td>\n",
       "      <td>0.16</td>\n",
       "      <td>41</td>\n",
       "      <td>0.0</td>\n",
       "      <td>31</td>\n",
       "      <td>14</td>\n",
       "    </tr>\n",
       "    <tr>\n",
       "      <th>4</th>\n",
       "      <td>20130105</td>\n",
       "      <td>0.00</td>\n",
       "      <td>41</td>\n",
       "      <td>0.0</td>\n",
       "      <td>37</td>\n",
       "      <td>28</td>\n",
       "    </tr>\n",
       "  </tbody>\n",
       "</table>\n",
       "</div>"
      ],
      "text/plain": [
       "       DATE  Precipitation\\n(inches)  Snow Depth\\n(inches)  \\\n",
       "0  20130101                     0.00                    44   \n",
       "1  20130102                     0.01                    42   \n",
       "2  20130103                     0.00                    42   \n",
       "3  20130104                     0.16                    41   \n",
       "4  20130105                     0.00                    41   \n",
       "\n",
       "   Snowfall\\n(inches)  Max Temp (°F)  Min Temp (°F)  \n",
       "0                 0.0             29             12  \n",
       "1                 0.0             27             11  \n",
       "2                 0.0             20             12  \n",
       "3                 0.0             31             14  \n",
       "4                 0.0             37             28  "
      ]
     },
     "execution_count": 4,
     "metadata": {},
     "output_type": "execute_result"
    }
   ],
   "source": [
    "# drop the STATION and STATION_NAME columns\n",
    "df.drop(['STATION', 'STATION_NAME'], axis=1, inplace=True)\n",
    "df.head()"
   ]
  },
  {
   "cell_type": "code",
   "execution_count": 5,
   "metadata": {},
   "outputs": [
    {
     "name": "stdout",
     "output_type": "stream",
     "text": [
      "(1186, 8)\n"
     ]
    },
    {
     "data": {
      "text/html": [
       "<div>\n",
       "<style scoped>\n",
       "    .dataframe tbody tr th:only-of-type {\n",
       "        vertical-align: middle;\n",
       "    }\n",
       "\n",
       "    .dataframe tbody tr th {\n",
       "        vertical-align: top;\n",
       "    }\n",
       "\n",
       "    .dataframe thead th {\n",
       "        text-align: right;\n",
       "    }\n",
       "</style>\n",
       "<table border=\"1\" class=\"dataframe\">\n",
       "  <thead>\n",
       "    <tr style=\"text-align: right;\">\n",
       "      <th></th>\n",
       "      <th>year</th>\n",
       "      <th>month</th>\n",
       "      <th>day</th>\n",
       "      <th>Precipitation\\n(inches)</th>\n",
       "      <th>Snow Depth\\n(inches)</th>\n",
       "      <th>Snowfall\\n(inches)</th>\n",
       "      <th>Max Temp (°F)</th>\n",
       "      <th>Min Temp (°F)</th>\n",
       "    </tr>\n",
       "  </thead>\n",
       "  <tbody>\n",
       "    <tr>\n",
       "      <th>0</th>\n",
       "      <td>2013</td>\n",
       "      <td>1</td>\n",
       "      <td>1</td>\n",
       "      <td>0.00</td>\n",
       "      <td>44</td>\n",
       "      <td>0.0</td>\n",
       "      <td>29</td>\n",
       "      <td>12</td>\n",
       "    </tr>\n",
       "    <tr>\n",
       "      <th>1</th>\n",
       "      <td>2013</td>\n",
       "      <td>1</td>\n",
       "      <td>2</td>\n",
       "      <td>0.01</td>\n",
       "      <td>42</td>\n",
       "      <td>0.0</td>\n",
       "      <td>27</td>\n",
       "      <td>11</td>\n",
       "    </tr>\n",
       "    <tr>\n",
       "      <th>2</th>\n",
       "      <td>2013</td>\n",
       "      <td>1</td>\n",
       "      <td>3</td>\n",
       "      <td>0.00</td>\n",
       "      <td>42</td>\n",
       "      <td>0.0</td>\n",
       "      <td>20</td>\n",
       "      <td>12</td>\n",
       "    </tr>\n",
       "    <tr>\n",
       "      <th>3</th>\n",
       "      <td>2013</td>\n",
       "      <td>1</td>\n",
       "      <td>4</td>\n",
       "      <td>0.16</td>\n",
       "      <td>41</td>\n",
       "      <td>0.0</td>\n",
       "      <td>31</td>\n",
       "      <td>14</td>\n",
       "    </tr>\n",
       "    <tr>\n",
       "      <th>4</th>\n",
       "      <td>2013</td>\n",
       "      <td>1</td>\n",
       "      <td>5</td>\n",
       "      <td>0.00</td>\n",
       "      <td>41</td>\n",
       "      <td>0.0</td>\n",
       "      <td>37</td>\n",
       "      <td>28</td>\n",
       "    </tr>\n",
       "  </tbody>\n",
       "</table>\n",
       "</div>"
      ],
      "text/plain": [
       "   year  month  day  Precipitation\\n(inches)  Snow Depth\\n(inches)  \\\n",
       "0  2013      1    1                     0.00                    44   \n",
       "1  2013      1    2                     0.01                    42   \n",
       "2  2013      1    3                     0.00                    42   \n",
       "3  2013      1    4                     0.16                    41   \n",
       "4  2013      1    5                     0.00                    41   \n",
       "\n",
       "   Snowfall\\n(inches)  Max Temp (°F)  Min Temp (°F)  \n",
       "0                 0.0             29             12  \n",
       "1                 0.0             27             11  \n",
       "2                 0.0             20             12  \n",
       "3                 0.0             31             14  \n",
       "4                 0.0             37             28  "
      ]
     },
     "execution_count": 5,
     "metadata": {},
     "output_type": "execute_result"
    }
   ],
   "source": [
    "# divide the date column into 3 columns: year, month, date\n",
    "df['DATE'] = pd.to_datetime(df['DATE'], format='%Y%m%d')\n",
    "df.insert(0, 'year', pd.DatetimeIndex(df['DATE']).year)\n",
    "df.insert(1, 'month', pd.DatetimeIndex(df['DATE']).month)\n",
    "df.insert(2, 'day', pd.DatetimeIndex(df['DATE']).day)\n",
    "df.drop(['DATE'], axis=1, inplace=True)\n",
    "print(df.shape)\n",
    "df.head()"
   ]
  },
  {
   "cell_type": "code",
   "execution_count": 6,
   "metadata": {},
   "outputs": [
    {
     "name": "stdout",
     "output_type": "stream",
     "text": [
      "[[2.013e+03 1.000e+00 1.000e+00 ... 0.000e+00 2.900e+01 1.200e+01]\n",
      " [2.013e+03 1.000e+00 2.000e+00 ... 0.000e+00 2.700e+01 1.100e+01]\n",
      " [2.013e+03 1.000e+00 3.000e+00 ... 0.000e+00 2.000e+01 1.200e+01]\n",
      " ...\n",
      " [2.016e+03 3.000e+00 2.900e+01 ... 0.000e+00 3.300e+01 2.700e+01]\n",
      " [2.016e+03 3.000e+00 3.000e+01 ... 0.000e+00 4.700e+01 2.700e+01]\n",
      " [2.016e+03 3.000e+00 3.100e+01 ... 0.000e+00 5.900e+01 3.200e+01]]\n"
     ]
    }
   ],
   "source": [
    "# convert the dataframe df into a NumPy array wd\n",
    "wd = np.array(df)\n",
    "print(wd)"
   ]
  },
  {
   "cell_type": "markdown",
   "metadata": {},
   "source": [
    "## Line Plot"
   ]
  },
  {
   "cell_type": "code",
   "execution_count": 7,
   "metadata": {},
   "outputs": [
    {
     "data": {
      "image/png": "[encoded data removed]",
      "text/plain": [
       "<Figure size 432x288 with 1 Axes>"
      ]
     },
     "metadata": {
      "needs_background": "light"
     },
     "output_type": "display_data"
    }
   ],
   "source": [
    "# imports (already complete)\n",
    "\n",
    "# data\n",
    "precip = wd[:,3]   # all rows, column index 3 is the column for precipitation\n",
    "\n",
    "# create fig, ax objects\n",
    "fig, ax = plt.subplots()\n",
    "\n",
    "# plot the data\n",
    "ax.plot(precip)\n",
    "\n",
    "# customize plot\n",
    "ax.set_title('Precipitation vs. Time')\n",
    "ax.set_xlabel('Time (days since Jan 01, 2013)')\n",
    "ax.set_ylabel('Precipitation (inches)')\n",
    "\n",
    "# save and show the plot\n",
    "plt.savefig('lab4_line_plot.png', dpi=72)\n",
    "plt.show()"
   ]
  },
  {
   "cell_type": "code",
   "execution_count": null,
   "metadata": {},
   "outputs": [],
   "source": []
  }
 ],
 "metadata": {
  "kernelspec": {
   "display_name": "Python 3",
   "language": "python",
   "name": "python3"
  },
  "language_info": {
   "codemirror_mode": {
    "name": "ipython",
    "version": 3
   },
   "file_extension": ".py",
   "mimetype": "text/x-python",
   "name": "python",
   "nbconvert_exporter": "python",
   "pygments_lexer": "ipython3",
   "version": "3.8.3"
  }
 },
 "nbformat": 4,
 "nbformat_minor": 4
}
