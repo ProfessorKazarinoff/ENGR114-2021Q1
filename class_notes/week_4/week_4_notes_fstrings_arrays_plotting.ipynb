{
 "cells": [
  {
   "cell_type": "markdown",
   "metadata": {},
   "source": [
    "# Week 4 Notes: f-strings, arrays, plotting"
   ]
  },
  {
   "cell_type": "markdown",
   "metadata": {},
   "source": [
    "## f-strings\n",
    "\n",
    "Python f-strings are a special type of string that can include variables and expressions. The variable values or expression results will be printed out with the contents of the f-string. Python f-strings are defined using the syntax below:\n",
    "\n",
    "```\n",
    "f\"My text, and a variable value {v} and an expression result {2+2}\"\n",
    "```"
   ]
  },
  {
   "cell_type": "code",
   "execution_count": 1,
   "metadata": {},
   "outputs": [
    {
     "name": "stdout",
     "output_type": "stream",
     "text": [
      "My text, a variable value: 5 and an expression result 4\n"
     ]
    }
   ],
   "source": [
    "# an f-string example\n",
    "v = 5\n",
    "my_fstring = f\"My text, a variable value: {v} and an expression result {2+2}\"\n",
    "print(my_fstring)"
   ]
  },
  {
   "cell_type": "code",
   "execution_count": 2,
   "metadata": {},
   "outputs": [
    {
     "name": "stdout",
     "output_type": "stream",
     "text": [
      "My name is Peter and my birthday is in Feb\n"
     ]
    }
   ],
   "source": [
    "name = \"Peter\"\n",
    "b_month = \"Feb\"\n",
    "another_fstring = f\"My name is {name} and my birthday is in {b_month}\"\n",
    "print(another_fstring)"
   ]
  },
  {
   "cell_type": "markdown",
   "metadata": {},
   "source": [
    "F-strings don't really work in Markdown cells\n",
    "\n",
    "f\"Print out a variable value {2+2}\""
   ]
  },
  {
   "cell_type": "markdown",
   "metadata": {},
   "source": [
    "## Review of Arrays, indexing, slicing, masking"
   ]
  },
  {
   "cell_type": "code",
   "execution_count": 3,
   "metadata": {},
   "outputs": [],
   "source": [
    "# before NumPy functions and methods can be used, NumPy first needs to be imported\n",
    "import numpy as np"
   ]
  },
  {
   "cell_type": "code",
   "execution_count": 4,
   "metadata": {},
   "outputs": [
    {
     "name": "stdout",
     "output_type": "stream",
     "text": [
      "The version of NumPy is: 1.18.5\n"
     ]
    }
   ],
   "source": [
    "# print out NumPy's version using an f-string\n",
    "print(f\"The version of NumPy is: {np.__version__}\")"
   ]
  },
  {
   "cell_type": "code",
   "execution_count": 5,
   "metadata": {},
   "outputs": [
    {
     "name": "stdout",
     "output_type": "stream",
     "text": [
      "[[-1.   2.   3.4]\n",
      " [ 0.  -5.  -4.1]]\n"
     ]
    }
   ],
   "source": [
    "a = np.array([[-1,2,3.4],[0,-5,-4.1]])\n",
    "print(a)"
   ]
  },
  {
   "cell_type": "code",
   "execution_count": 6,
   "metadata": {},
   "outputs": [
    {
     "data": {
      "text/plain": [
       "-5.0"
      ]
     },
     "execution_count": 6,
     "metadata": {},
     "output_type": "execute_result"
    }
   ],
   "source": [
    "# pull out the value -5 with indexing\n",
    "a[1,1]"
   ]
  },
  {
   "cell_type": "code",
   "execution_count": 7,
   "metadata": {},
   "outputs": [
    {
     "data": {
      "text/plain": [
       "-4.1"
      ]
     },
     "execution_count": 7,
     "metadata": {},
     "output_type": "execute_result"
    }
   ],
   "source": [
    "# pull out the value -4.1 with indexing\n",
    "a[1,2]"
   ]
  },
  {
   "cell_type": "code",
   "execution_count": 8,
   "metadata": {},
   "outputs": [
    {
     "data": {
      "text/plain": [
       "array([ 0. , -5. , -4.1])"
      ]
     },
     "execution_count": 8,
     "metadata": {},
     "output_type": "execute_result"
    }
   ],
   "source": [
    "# pull out the entire second row with slicing\n",
    "a[1,0:3:1]    # row start:row stop:row step, col start:col stop:col step\n",
    "a[1,0:3]      # use the default step of 1\n",
    "a[1,:3]       # use default start of 0 and default step of 1\n",
    "a[1,:]        # all of the row, default start of 0, default stop of end, default step of 1"
   ]
  },
  {
   "cell_type": "code",
   "execution_count": 9,
   "metadata": {},
   "outputs": [
    {
     "name": "stdout",
     "output_type": "stream",
     "text": [
      "[[-1.   2.   3.4]\n",
      " [ 0.  -5.  -4.1]]\n"
     ]
    }
   ],
   "source": [
    "print(a)"
   ]
  },
  {
   "cell_type": "code",
   "execution_count": 10,
   "metadata": {},
   "outputs": [
    {
     "data": {
      "text/plain": [
       "array([ 3.4, -4.1])"
      ]
     },
     "execution_count": 10,
     "metadata": {},
     "output_type": "execute_result"
    }
   ],
   "source": [
    "# use slicing to pull out the last column, 3.4 and -4.1\n",
    "a[0:2:1,2]\n",
    "a[:2:1,2]\n",
    "a[:2:,2]\n",
    "a[:2,2]\n",
    "a[:,-1] # use negative indexing to specify the last column"
   ]
  },
  {
   "cell_type": "code",
   "execution_count": 11,
   "metadata": {},
   "outputs": [
    {
     "name": "stdout",
     "output_type": "stream",
     "text": [
      "[[-1.   2.   3.4]\n",
      " [ 0.  -5.  -4.1]]\n"
     ]
    }
   ],
   "source": [
    "print(a)"
   ]
  },
  {
   "cell_type": "code",
   "execution_count": 12,
   "metadata": {},
   "outputs": [
    {
     "name": "stdout",
     "output_type": "stream",
     "text": [
      "[[False  True  True]\n",
      " [False False False]]\n",
      "[2.  3.4]\n"
     ]
    }
   ],
   "source": [
    "# pull out all of the values greater than 1 using a boolean mask\n",
    "mask = a>1\n",
    "print(mask)\n",
    "values_less_than1 = a[mask]\n",
    "print(values_less_than1)"
   ]
  },
  {
   "cell_type": "code",
   "execution_count": 13,
   "metadata": {},
   "outputs": [
    {
     "name": "stdout",
     "output_type": "stream",
     "text": [
      "[[-1.   2.   3.4]\n",
      " [ 0.  -5.  -4.1]]\n",
      "<class 'numpy.ndarray'>\n",
      "the location of value 3.4 is row 0 and col 2\n"
     ]
    }
   ],
   "source": [
    "# output the location of the value 3.4 using np.where()   in row 0, col 2\n",
    "print(a)\n",
    "loc = np.where(a==3.4)\n",
    "print(type(loc[1]))\n",
    "print(f\"the location of value 3.4 is row {loc[0][0]} and col {loc[1][0]}\")"
   ]
  },
  {
   "cell_type": "markdown",
   "metadata": {},
   "source": [
    "Print out variables or expressions in a markdown cell using {{ }}\n",
    "\n",
    "the location of value 3.4 is row {{loc[0][0]}} and col {{loc[1][0]}}"
   ]
  },
  {
   "cell_type": "markdown",
   "metadata": {},
   "source": [
    "## Plotting with Matplotlib"
   ]
  },
  {
   "cell_type": "code",
   "execution_count": 14,
   "metadata": {},
   "outputs": [
    {
     "name": "stdout",
     "output_type": "stream",
     "text": [
      "Matplotlib verion: 3.2.2\n"
     ]
    }
   ],
   "source": [
    "# matplotlib needs to be imported before it is used\n",
    "import matplotlib\n",
    "\n",
    "print(f\"Matplotlib verion: {matplotlib.__version__}\")"
   ]
  },
  {
   "cell_type": "code",
   "execution_count": 15,
   "metadata": {},
   "outputs": [],
   "source": [
    "# the common import line for Matplotlib is below:\n",
    "import matplotlib.pyplot as plt\n",
    "import numpy as np\n",
    "# if using a Jupyter notebook, remove if using .py-file\n",
    "%matplotlib inline"
   ]
  },
  {
   "cell_type": "code",
   "execution_count": 16,
   "metadata": {},
   "outputs": [
    {
     "data": {
      "image/png": "[encoded data removed]",
      "text/plain": [
       "<Figure size 432x288 with 1 Axes>"
      ]
     },
     "metadata": {
      "needs_background": "light"
     },
     "output_type": "display_data"
    }
   ],
   "source": [
    "# imports\n",
    "import matplotlib.pyplot as plt\n",
    "import numpy as np\n",
    "%matplotlib inline\n",
    "\n",
    "# create, organize the data\n",
    "x = np.arange(0,4*np.pi,0.1)\n",
    "y = np.sin(x)\n",
    "\n",
    "# create a figure and axis object\n",
    "fig, ax = plt.subplots()\n",
    "\n",
    "# plot the data on the axis object\n",
    "ax.plot(x,y)\n",
    "\n",
    "# add any customizations to the plot\n",
    "ax.set_title(\"Sine of x from 0 to 4pi\")\n",
    "ax.set_xlabel(\"x from 0 to 4pi\")\n",
    "ax.set_ylabel(\"sin (x)\")\n",
    "\n",
    "# show and optionally save the plot\n",
    "plt.show()"
   ]
  },
  {
   "cell_type": "markdown",
   "metadata": {},
   "source": [
    "### Multi-line plot"
   ]
  },
  {
   "cell_type": "code",
   "execution_count": 17,
   "metadata": {},
   "outputs": [
    {
     "data": {
      "image/png": "[encoded data removed]",
      "text/plain": [
       "<Figure size 432x288 with 1 Axes>"
      ]
     },
     "metadata": {
      "needs_background": "light"
     },
     "output_type": "display_data"
    }
   ],
   "source": [
    "# imports\n",
    "import numpy as np\n",
    "import matplotlib.pyplot as plt\n",
    "%matplotlib inline\n",
    "\n",
    "# data\n",
    "x = np.arange(0,4*np.pi,0.01)\n",
    "y1 = np.sin(x)\n",
    "y2 = np.cos(x)\n",
    "\n",
    "# fig, ax objects\n",
    "fig, ax = plt.subplots()\n",
    "\n",
    "# plot the data\n",
    "ax.plot(x,y1,x,y2)\n",
    "# ax.plot(x,y1)   # can call ax.plot twice instead\n",
    "# ax.plot(x,y2)\n",
    "\n",
    "# customize the plot\n",
    "ax.set_title(\"Sine and Cosine of X\")\n",
    "ax.set_xlabel(\"x from 0 to 4pi\")\n",
    "ax.set_ylabel(\"sin(x) and cos(x)\")\n",
    "ax.legend(['sin(x)','cos(x)'])\n",
    "\n",
    "# show the plot and optionally save the plot\n",
    "plt.savefig('plot_of_sin_and_cos.png', dpi=300)    # save the figure before showing the plot\n",
    "plt.show()"
   ]
  },
  {
   "cell_type": "markdown",
   "metadata": {},
   "source": [
    "show the image in a markdown cell\n",
    "\n",
    "```\n",
    "![multi-line plot](plot_of_sin_and_cos.png)\n",
    "```\n",
    "\n",
    "![multi-line plot](plot_of_sin_and_cos.png)"
   ]
  },
  {
   "cell_type": "code",
   "execution_count": 18,
   "metadata": {},
   "outputs": [
    {
     "name": "stdout",
     "output_type": "stream",
     "text": [
      " Volume in drive C is OS\n",
      " Volume Serial Number is 1236-A93E\n",
      "\n",
      " Directory of C:\\Users\\peter.kazarinoff\\Documents\\ENGR114-2021Q1\\class_notes\\week_4\n",
      "\n",
      "01/25/2021  12:08 PM    <DIR>          .\n",
      "01/25/2021  12:08 PM    <DIR>          ..\n",
      "01/25/2021  11:50 AM    <DIR>          .ipynb_checkpoints\n",
      "01/25/2021  11:29 AM            11,114 bar_plot.png\n",
      "01/25/2021  11:40 AM            14,776 pie_chart.png\n",
      "01/25/2021  12:08 PM           168,384 plot_of_sin_and_cos.png\n",
      "01/25/2021  11:56 AM             1,267 Untitled.ipynb\n",
      "01/25/2021  12:08 PM            98,484 week_4_notes_fstrings_arrays_plotting.ipynb\n",
      "               5 File(s)        294,025 bytes\n",
      "               3 Dir(s)  82,303,209,472 bytes free\n"
     ]
    }
   ],
   "source": [
    "%ls"
   ]
  },
  {
   "cell_type": "markdown",
   "metadata": {},
   "source": [
    "### Bar Charts"
   ]
  },
  {
   "cell_type": "code",
   "execution_count": 19,
   "metadata": {},
   "outputs": [
    {
     "data": {
      "image/png": "[encoded data removed]",
      "text/plain": [
       "<Figure size 432x288 with 1 Axes>"
      ]
     },
     "metadata": {
      "needs_background": "light"
     },
     "output_type": "display_data"
    }
   ],
   "source": [
    "# import\n",
    "import numpy as np\n",
    "import matplotlib.pyplot as plt\n",
    "\n",
    "# data\n",
    "x_pos = [0,1,2]\n",
    "y_vals = [7.99,19.95,4.00]\n",
    "x_lab = ['ESP8266', 'Arduino','Pi Pico']\n",
    "\n",
    "# fig, ax objects\n",
    "fig, ax = plt.subplots()\n",
    "\n",
    "# plot data\n",
    "ax.bar(x_pos, y_vals, align='center')\n",
    "\n",
    "# customize plot\n",
    "ax.set_ylabel(\"Cost (dollars)\")\n",
    "ax.set_xticks(x_pos)\n",
    "ax.set_xticklabels(x_lab)\n",
    "ax.set_title(\"Cost of three microcontrollers\")\n",
    "\n",
    "# save and show plot\n",
    "plt.savefig('bar_plot.png')\n",
    "plt.show()"
   ]
  },
  {
   "cell_type": "markdown",
   "metadata": {},
   "source": [
    "### Pie Chart"
   ]
  },
  {
   "cell_type": "code",
   "execution_count": 20,
   "metadata": {},
   "outputs": [
    {
     "data": {
      "image/png": "[encoded data removed]",
      "text/plain": [
       "<Figure size 432x288 with 1 Axes>"
      ]
     },
     "metadata": {},
     "output_type": "display_data"
    }
   ],
   "source": [
    "# imports\n",
    "import numpy as np\n",
    "import matplotlib.pyplot as plt\n",
    "# include if using a Jupyter notebook\n",
    "%matplotlib inline\n",
    "\n",
    "# data\n",
    "labels = ['class time','homework','lab']\n",
    "sizes = [6,4,4]\n",
    "\n",
    "# fig and ax objects\n",
    "fig, ax = plt.subplots()\n",
    "\n",
    "# plot the data\n",
    "ax.pie(sizes, labels=labels, autopct='%1.1f%%')\n",
    "\n",
    "# customize the plot\n",
    "ax.axis('equal') # ensure the pie chart is a circle, not an oval\n",
    "ax.set_title('Percentage of time spent for each part of the course')\n",
    "\n",
    "# save and show the plot\n",
    "plt.savefig('pie_chart.png')\n",
    "plt.show()"
   ]
  },
  {
   "cell_type": "code",
   "execution_count": null,
   "metadata": {},
   "outputs": [],
   "source": []
  }
 ],
 "metadata": {
  "kernelspec": {
   "display_name": "Python 3",
   "language": "python",
   "name": "python3"
  },
  "language_info": {
   "codemirror_mode": {
    "name": "ipython",
    "version": 3
   },
   "file_extension": ".py",
   "mimetype": "text/x-python",
   "name": "python",
   "nbconvert_exporter": "python",
   "pygments_lexer": "ipython3",
   "version": "3.8.3"
  }
 },
 "nbformat": 4,
 "nbformat_minor": 4
}
