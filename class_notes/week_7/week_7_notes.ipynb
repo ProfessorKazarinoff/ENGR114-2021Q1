{
 "cells": [
  {
   "cell_type": "markdown",
   "id": "private-disorder",
   "metadata": {},
   "source": [
    "# Week 7 Notes: No class week 7 during 2021Q1 due to the ice storm and power outages"
   ]
  },
  {
   "cell_type": "code",
   "execution_count": null,
   "id": "complicated-solomon",
   "metadata": {},
   "outputs": [],
   "source": []
  }
 ],
 "metadata": {
  "kernelspec": {
   "display_name": "Python 3",
   "language": "python",
   "name": "python3"
  },
  "language_info": {
   "codemirror_mode": {
    "name": "ipython",
    "version": 3
   },
   "file_extension": ".py",
   "mimetype": "text/x-python",
   "name": "python",
   "nbconvert_exporter": "python",
   "pygments_lexer": "ipython3",
   "version": "3.8.5"
  }
 },
 "nbformat": 4,
 "nbformat_minor": 5
}
