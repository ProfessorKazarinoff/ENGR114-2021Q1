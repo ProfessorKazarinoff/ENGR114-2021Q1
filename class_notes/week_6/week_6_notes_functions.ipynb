{
 "cells": [
  {
   "cell_type": "markdown",
   "metadata": {},
   "source": [
    "# Week 6 Notes: Functions"
   ]
  },
  {
   "cell_type": "markdown",
   "metadata": {},
   "source": [
    "## Some functions in Python are build-in and don't have to be imported before they are used"
   ]
  },
  {
   "cell_type": "code",
   "execution_count": 1,
   "metadata": {},
   "outputs": [
    {
     "name": "stdout",
     "output_type": "stream",
     "text": [
      "9\n"
     ]
    }
   ],
   "source": [
    "a = pow(3,2)\n",
    "print(a)"
   ]
  },
  {
   "cell_type": "code",
   "execution_count": 2,
   "metadata": {},
   "outputs": [
    {
     "name": "stdout",
     "output_type": "stream",
     "text": [
      "4\n"
     ]
    }
   ],
   "source": [
    "b = abs(-4)\n",
    "print(b)"
   ]
  },
  {
   "cell_type": "code",
   "execution_count": 3,
   "metadata": {},
   "outputs": [
    {
     "name": "stdout",
     "output_type": "stream",
     "text": [
      "(2+5j)\n"
     ]
    }
   ],
   "source": [
    "c = complex(real=2,imag=5)  # key word arguments\n",
    "print(c)"
   ]
  },
  {
   "cell_type": "markdown",
   "metadata": {},
   "source": [
    "## Some functions are part of the Python Standard Library, but not build-in. These functions need to be imported before they are used."
   ]
  },
  {
   "cell_type": "code",
   "execution_count": 4,
   "metadata": {},
   "outputs": [
    {
     "ename": "NameError",
     "evalue": "name 'mean' is not defined",
     "output_type": "error",
     "traceback": [
      "\u001b[1;31m---------------------------------------------------------------------------\u001b[0m",
      "\u001b[1;31mNameError\u001b[0m                                 Traceback (most recent call last)",
      "\u001b[1;32m<ipython-input-4-9a61d52d451d>\u001b[0m in \u001b[0;36m<module>\u001b[1;34m\u001b[0m\n\u001b[1;32m----> 1\u001b[1;33m \u001b[0mmean\u001b[0m\u001b[1;33m(\u001b[0m\u001b[1;33m[\u001b[0m\u001b[1;36m1\u001b[0m\u001b[1;33m,\u001b[0m\u001b[1;36m2\u001b[0m\u001b[1;33m,\u001b[0m\u001b[1;36m3\u001b[0m\u001b[1;33m]\u001b[0m\u001b[1;33m)\u001b[0m \u001b[1;31m# the mean function is part of the statistics module in the standard libary\u001b[0m\u001b[1;33m\u001b[0m\u001b[1;33m\u001b[0m\u001b[0m\n\u001b[0m\u001b[0;32m      2\u001b[0m \u001b[1;31m# the mean fuction must be imported before it is used\u001b[0m\u001b[1;33m\u001b[0m\u001b[1;33m\u001b[0m\u001b[1;33m\u001b[0m\u001b[0m\n",
      "\u001b[1;31mNameError\u001b[0m: name 'mean' is not defined"
     ]
    }
   ],
   "source": [
    "mean([1,2,3]) # the mean function is part of the statistics module in the standard libary\n",
    "# the mean fuction must be imported before it is used"
   ]
  },
  {
   "cell_type": "code",
   "execution_count": 5,
   "metadata": {},
   "outputs": [
    {
     "name": "stdout",
     "output_type": "stream",
     "text": [
      "2\n"
     ]
    }
   ],
   "source": [
    "from statistics import mean\n",
    "\n",
    "d = mean([1,2,3])\n",
    "print(d)"
   ]
  },
  {
   "cell_type": "code",
   "execution_count": 6,
   "metadata": {},
   "outputs": [
    {
     "name": "stdout",
     "output_type": "stream",
     "text": [
      "7.38905609893065\n"
     ]
    }
   ],
   "source": [
    "from math import exp\n",
    "\n",
    "f = exp(2)\n",
    "print(f)"
   ]
  },
  {
   "cell_type": "markdown",
   "metadata": {},
   "source": [
    "## Some functions are in external libraries and need to be installed before they are used. Modules that are part of the Anaconda distribution of Python are installed when you install Anaconda, like NumPy and Matplotlib"
   ]
  },
  {
   "cell_type": "code",
   "execution_count": 7,
   "metadata": {},
   "outputs": [
    {
     "ename": "NameError",
     "evalue": "name 'np' is not defined",
     "output_type": "error",
     "traceback": [
      "\u001b[1;31m---------------------------------------------------------------------------\u001b[0m",
      "\u001b[1;31mNameError\u001b[0m                                 Traceback (most recent call last)",
      "\u001b[1;32m<ipython-input-7-6a21b053ec79>\u001b[0m in \u001b[0;36m<module>\u001b[1;34m\u001b[0m\n\u001b[1;32m----> 1\u001b[1;33m \u001b[0mnp\u001b[0m\u001b[1;33m.\u001b[0m\u001b[0marray\u001b[0m\u001b[1;33m(\u001b[0m\u001b[1;33m[\u001b[0m\u001b[1;36m1\u001b[0m\u001b[1;33m,\u001b[0m\u001b[1;36m2\u001b[0m\u001b[1;33m,\u001b[0m\u001b[1;36m3\u001b[0m\u001b[1;33m]\u001b[0m\u001b[1;33m)\u001b[0m\u001b[1;33m\u001b[0m\u001b[1;33m\u001b[0m\u001b[0m\n\u001b[0m",
      "\u001b[1;31mNameError\u001b[0m: name 'np' is not defined"
     ]
    }
   ],
   "source": [
    "np.array([1,2,3])"
   ]
  },
  {
   "cell_type": "code",
   "execution_count": 8,
   "metadata": {},
   "outputs": [
    {
     "name": "stdout",
     "output_type": "stream",
     "text": [
      "[1 2 3]\n"
     ]
    }
   ],
   "source": [
    "import numpy as np\n",
    "\n",
    "g = np.array([1,2,3])\n",
    "print(g)"
   ]
  },
  {
   "cell_type": "code",
   "execution_count": 9,
   "metadata": {},
   "outputs": [
    {
     "data": {
      "image/png": "[encoded data removed]",
      "text/plain": [
       "<Figure size 432x288 with 1 Axes>"
      ]
     },
     "metadata": {
      "needs_background": "light"
     },
     "output_type": "display_data"
    }
   ],
   "source": [
    "import matplotlib.pyplot as plt\n",
    "\n",
    "plt.plot([1,2,6])\n",
    "plt.show()"
   ]
  },
  {
   "cell_type": "markdown",
   "metadata": {},
   "source": [
    "## Functions can also be defined by the user and then used in the rest of the program"
   ]
  },
  {
   "cell_type": "code",
   "execution_count": 10,
   "metadata": {},
   "outputs": [
    {
     "name": "stdout",
     "output_type": "stream",
     "text": [
      "7\n"
     ]
    }
   ],
   "source": [
    "# create a function that adds 4 to any number\n",
    "def plus_four(n):\n",
    "    ans = n + 4\n",
    "    return ans\n",
    "\n",
    "h = plus_four(3)\n",
    "print(h)"
   ]
  },
  {
   "cell_type": "code",
   "execution_count": 11,
   "metadata": {},
   "outputs": [
    {
     "name": "stdout",
     "output_type": "stream",
     "text": [
      "78.5\n"
     ]
    }
   ],
   "source": [
    "# create a function that calculates the area of a circle\n",
    "def cir_area(r):\n",
    "    area = 3.14*r**2\n",
    "    return area\n",
    "\n",
    "m = cir_area(5)\n",
    "print(m)"
   ]
  },
  {
   "cell_type": "code",
   "execution_count": 12,
   "metadata": {},
   "outputs": [
    {
     "name": "stdout",
     "output_type": "stream",
     "text": [
      "25.0\n"
     ]
    }
   ],
   "source": [
    "# create a function that contains 2 input arguments and calculates the area of a triangle\n",
    "def tri_area(b,h):\n",
    "    a = 0.5*b*h\n",
    "    return a\n",
    "\n",
    "n = tri_area(5,10)\n",
    "print(n)"
   ]
  },
  {
   "cell_type": "code",
   "execution_count": 13,
   "metadata": {},
   "outputs": [],
   "source": [
    "# create a function that accepts keyword arguments and calcuates the area of a rectangle\n",
    "def rect_area(base=2,height=3):\n",
    "    area = base*height\n",
    "    return area"
   ]
  },
  {
   "cell_type": "code",
   "execution_count": 14,
   "metadata": {},
   "outputs": [
    {
     "name": "stdout",
     "output_type": "stream",
     "text": [
      "12\n"
     ]
    }
   ],
   "source": [
    "p = rect_area(3,4)\n",
    "print(p)"
   ]
  },
  {
   "cell_type": "code",
   "execution_count": 15,
   "metadata": {},
   "outputs": [
    {
     "name": "stdout",
     "output_type": "stream",
     "text": [
      "2\n"
     ]
    }
   ],
   "source": [
    "q = rect_area(base=1,height=2)\n",
    "print(q)"
   ]
  },
  {
   "cell_type": "code",
   "execution_count": 16,
   "metadata": {},
   "outputs": [
    {
     "name": "stdout",
     "output_type": "stream",
     "text": [
      "6\n"
     ]
    }
   ],
   "source": [
    "# defaults supplied in function definition will be used if input arguments are not supplied to a function\n",
    "r = rect_area()\n",
    "print(r)"
   ]
  },
  {
   "cell_type": "code",
   "execution_count": 17,
   "metadata": {},
   "outputs": [
    {
     "name": "stdout",
     "output_type": "stream",
     "text": [
      "15\n"
     ]
    }
   ],
   "source": [
    "s = rect_area(base=5)\n",
    "print(s)"
   ]
  },
  {
   "cell_type": "code",
   "execution_count": 18,
   "metadata": {},
   "outputs": [
    {
     "ename": "SyntaxError",
     "evalue": "positional argument follows keyword argument (<ipython-input-18-280e2ccb4d48>, line 1)",
     "output_type": "error",
     "traceback": [
      "\u001b[1;36m  File \u001b[1;32m\"<ipython-input-18-280e2ccb4d48>\"\u001b[1;36m, line \u001b[1;32m1\u001b[0m\n\u001b[1;33m    t = rect_area(base=5,2)    # positional arguments have to follow keyword arguments when functions are called\u001b[0m\n\u001b[1;37m                         ^\u001b[0m\n\u001b[1;31mSyntaxError\u001b[0m\u001b[1;31m:\u001b[0m positional argument follows keyword argument\n"
     ]
    }
   ],
   "source": [
    "t = rect_area(base=5,2)    # positional arguments have to follow keyword arguments when functions are called"
   ]
  },
  {
   "cell_type": "code",
   "execution_count": 19,
   "metadata": {},
   "outputs": [
    {
     "name": "stdout",
     "output_type": "stream",
     "text": [
      "1.5\n"
     ]
    }
   ],
   "source": [
    "r = rect_area(3,height=0.5)\n",
    "print(r)"
   ]
  },
  {
   "cell_type": "code",
   "execution_count": 20,
   "metadata": {},
   "outputs": [
    {
     "name": "stdout",
     "output_type": "stream",
     "text": [
      "Hi Peter!\n"
     ]
    }
   ],
   "source": [
    "# define a function that does not return anything to the user (but it does show the user something)\n",
    "def say_hi(name):\n",
    "    print(f\"Hi {name}!\")\n",
    "    \n",
    "say_hi(\"Peter\")"
   ]
  },
  {
   "cell_type": "code",
   "execution_count": 21,
   "metadata": {},
   "outputs": [
    {
     "name": "stdout",
     "output_type": "stream",
     "text": [
      "Hi Peter!\n",
      "None\n"
     ]
    }
   ],
   "source": [
    "s = say_hi(\"Peter\")\n",
    "print(s)    # since the function did not define any output, the default output of None is used"
   ]
  },
  {
   "cell_type": "code",
   "execution_count": 22,
   "metadata": {},
   "outputs": [
    {
     "name": "stdout",
     "output_type": "stream",
     "text": [
      "square is 4 and cube is 8\n"
     ]
    }
   ],
   "source": [
    "# define a function that returns two things, the number squared and the number cubed\n",
    "def sq_cu(n):\n",
    "    sq = n**2\n",
    "    cu = n**3\n",
    "    return sq, cu\n",
    "\n",
    "s, c = sq_cu(2)\n",
    "print(f\"square is {s} and cube is {c}\")"
   ]
  },
  {
   "cell_type": "markdown",
   "metadata": {},
   "source": [
    "## Local variables compared to Global Variables"
   ]
  },
  {
   "cell_type": "code",
   "execution_count": 23,
   "metadata": {},
   "outputs": [],
   "source": [
    "# make a fuction that ouputs +2 and +3 to any number\n",
    "def plus_23(my_number):\n",
    "    plus_2 = my_number+2\n",
    "    plus_3 = my_number+3\n",
    "    return plus_2, plus_3"
   ]
  },
  {
   "cell_type": "code",
   "execution_count": 24,
   "metadata": {},
   "outputs": [
    {
     "ename": "NameError",
     "evalue": "name 'plus_2' is not defined",
     "output_type": "error",
     "traceback": [
      "\u001b[1;31m---------------------------------------------------------------------------\u001b[0m",
      "\u001b[1;31mNameError\u001b[0m                                 Traceback (most recent call last)",
      "\u001b[1;32m<ipython-input-24-3ab5e6a62eee>\u001b[0m in \u001b[0;36m<module>\u001b[1;34m\u001b[0m\n\u001b[1;32m----> 1\u001b[1;33m \u001b[0mplus_2\u001b[0m   \u001b[1;31m# plus_2 is a local variable and only part of the function definition\u001b[0m\u001b[1;33m\u001b[0m\u001b[1;33m\u001b[0m\u001b[0m\n\u001b[0m",
      "\u001b[1;31mNameError\u001b[0m: name 'plus_2' is not defined"
     ]
    }
   ],
   "source": [
    "plus_2   # plus_2 is a local variable and only part of the function definition"
   ]
  },
  {
   "cell_type": "code",
   "execution_count": 25,
   "metadata": {},
   "outputs": [],
   "source": [
    "a = 2"
   ]
  },
  {
   "cell_type": "code",
   "execution_count": 26,
   "metadata": {},
   "outputs": [
    {
     "name": "stdout",
     "output_type": "stream",
     "text": [
      "2\n"
     ]
    }
   ],
   "source": [
    "print(a)     # a is defined as a global variable and can be used in the script or notebook"
   ]
  },
  {
   "cell_type": "code",
   "execution_count": 27,
   "metadata": {},
   "outputs": [
    {
     "name": "stdout",
     "output_type": "stream",
     "text": [
      "10\n",
      "11\n"
     ]
    }
   ],
   "source": [
    "b = 8\n",
    "x,y = plus_23(b)\n",
    "print(x)\n",
    "print(y)"
   ]
  },
  {
   "cell_type": "code",
   "execution_count": 28,
   "metadata": {},
   "outputs": [
    {
     "name": "stdout",
     "output_type": "stream",
     "text": [
      "5\n"
     ]
    }
   ],
   "source": [
    "def add_2(a):\n",
    "    b = a+2\n",
    "    c = 8\n",
    "    return b\n",
    "\n",
    "c = 5\n",
    "print(c)"
   ]
  },
  {
   "cell_type": "code",
   "execution_count": 29,
   "metadata": {},
   "outputs": [
    {
     "name": "stdout",
     "output_type": "stream",
     "text": [
      "5\n"
     ]
    }
   ],
   "source": [
    "c = 5\n",
    "\n",
    "def add_2(a):\n",
    "    b = a+2\n",
    "    c = 8\n",
    "    return b\n",
    "\n",
    "print(c)"
   ]
  },
  {
   "cell_type": "markdown",
   "metadata": {},
   "source": [
    "## Functions can be defined in external files which are in the same folder as the running Jupyter notebook. These functions need to imported before they are used"
   ]
  },
  {
   "cell_type": "code",
   "execution_count": 30,
   "metadata": {},
   "outputs": [],
   "source": [
    "# define two function in another file my_funcs.py"
   ]
  },
  {
   "cell_type": "code",
   "execution_count": 31,
   "metadata": {},
   "outputs": [
    {
     "name": "stdout",
     "output_type": "stream",
     "text": [
      " Volume in drive C is OS\n",
      " Volume Serial Number is 1236-A93E\n",
      "\n",
      " Directory of C:\\Users\\peter.kazarinoff\\Documents\\ENGR114-2021Q1\\class_notes\\week_6\n",
      "\n",
      "02/08/2021  12:02 PM    <DIR>          .\n",
      "02/08/2021  12:02 PM    <DIR>          ..\n",
      "02/08/2021  09:34 AM    <DIR>          .ipynb_checkpoints\n",
      "02/08/2021  11:43 AM    <DIR>          __pycache__\n",
      "02/08/2021  12:01 PM             1,476 Agenda_week_6.ipynb\n",
      "02/08/2021  11:36 AM               238 conversions.py\n",
      "02/08/2021  11:18 AM               195 my_funcs.py\n",
      "02/08/2021  12:02 PM            26,059 week_6_notes_functions.ipynb\n",
      "               4 File(s)         27,968 bytes\n",
      "               4 Dir(s)  71,124,496,384 bytes free\n"
     ]
    }
   ],
   "source": [
    "# make sure the file with the function definitions are in the same directory as the running Jupyter notebook\n",
    "%ls"
   ]
  },
  {
   "cell_type": "code",
   "execution_count": 32,
   "metadata": {},
   "outputs": [
    {
     "name": "stdout",
     "output_type": "stream",
     "text": [
      "6\n",
      "13\n"
     ]
    }
   ],
   "source": [
    "# from module_name (no .py extension) import function1, function2\n",
    "\n",
    "from my_funcs import plus_2, plus_3\n",
    "\n",
    "a = plus_2(4)\n",
    "b = plus_3(10)\n",
    "print(a)\n",
    "print(b)"
   ]
  },
  {
   "cell_type": "code",
   "execution_count": 33,
   "metadata": {},
   "outputs": [
    {
     "name": "stdout",
     "output_type": "stream",
     "text": [
      "8\n",
      "4\n"
     ]
    }
   ],
   "source": [
    "import my_funcs\n",
    "\n",
    "c = my_funcs.plus_2(6)\n",
    "d = my_funcs.plus_3(1)\n",
    "print(c)\n",
    "print(d)"
   ]
  },
  {
   "cell_type": "code",
   "execution_count": 34,
   "metadata": {},
   "outputs": [],
   "source": [
    "# create an external .py file in the same folder as this running Jupyter notebook that defines functions \n",
    "# to convert between teaspons to Tablespoons and cups to pints"
   ]
  },
  {
   "cell_type": "code",
   "execution_count": 35,
   "metadata": {},
   "outputs": [
    {
     "name": "stdout",
     "output_type": "stream",
     "text": [
      " Volume in drive C is OS\n",
      " Volume Serial Number is 1236-A93E\n",
      "\n",
      " Directory of C:\\Users\\peter.kazarinoff\\Documents\\ENGR114-2021Q1\\class_notes\\week_6\n",
      "\n",
      "02/08/2021  12:02 PM    <DIR>          .\n",
      "02/08/2021  12:02 PM    <DIR>          ..\n",
      "02/08/2021  09:34 AM    <DIR>          .ipynb_checkpoints\n",
      "02/08/2021  11:43 AM    <DIR>          __pycache__\n",
      "02/08/2021  12:01 PM             1,476 Agenda_week_6.ipynb\n",
      "02/08/2021  11:36 AM               238 conversions.py\n",
      "02/08/2021  11:18 AM               195 my_funcs.py\n",
      "02/08/2021  12:02 PM            26,059 week_6_notes_functions.ipynb\n",
      "               4 File(s)         27,968 bytes\n",
      "               4 Dir(s)  71,124,430,848 bytes free\n"
     ]
    }
   ],
   "source": [
    "# make sure the conversions.py file is in the same folder as this running Jupyter notebook\n",
    "%ls"
   ]
  },
  {
   "cell_type": "code",
   "execution_count": 36,
   "metadata": {},
   "outputs": [
    {
     "ename": "NameError",
     "evalue": "name 'tea_to_tab' is not defined",
     "output_type": "error",
     "traceback": [
      "\u001b[1;31m---------------------------------------------------------------------------\u001b[0m",
      "\u001b[1;31mNameError\u001b[0m                                 Traceback (most recent call last)",
      "\u001b[1;32m<ipython-input-36-1c0d00de5073>\u001b[0m in \u001b[0;36m<module>\u001b[1;34m\u001b[0m\n\u001b[1;32m----> 1\u001b[1;33m \u001b[0mtea_to_tab\u001b[0m\u001b[1;33m(\u001b[0m\u001b[1;36m3\u001b[0m\u001b[1;33m)\u001b[0m  \u001b[1;31m# functions need to be imported before they are used\u001b[0m\u001b[1;33m\u001b[0m\u001b[1;33m\u001b[0m\u001b[0m\n\u001b[0m",
      "\u001b[1;31mNameError\u001b[0m: name 'tea_to_tab' is not defined"
     ]
    }
   ],
   "source": [
    "tea_to_tab(3)  # functions need to be imported before they are used"
   ]
  },
  {
   "cell_type": "code",
   "execution_count": 37,
   "metadata": {},
   "outputs": [
    {
     "name": "stdout",
     "output_type": "stream",
     "text": [
      "number of teaspoons: 2.0\n",
      "number of pints: 2.0\n"
     ]
    }
   ],
   "source": [
    "from conversions import tea_to_tab, cup_to_pt\n",
    "\n",
    "n_teaspoons = 6\n",
    "n_tablespoons = tea_to_tab(n_teaspoons)\n",
    "print(f\"number of teaspoons: {n_tablespoons}\")\n",
    "\n",
    "n_cups = 4\n",
    "n_pints = cup_to_pt(n_cups)\n",
    "print(f\"number of pints: {n_pints}\")"
   ]
  },
  {
   "cell_type": "code",
   "execution_count": null,
   "metadata": {},
   "outputs": [],
   "source": []
  }
 ],
 "metadata": {
  "kernelspec": {
   "display_name": "Python 3",
   "language": "python",
   "name": "python3"
  },
  "language_info": {
   "codemirror_mode": {
    "name": "ipython",
    "version": 3
   },
   "file_extension": ".py",
   "mimetype": "text/x-python",
   "name": "python",
   "nbconvert_exporter": "python",
   "pygments_lexer": "ipython3",
   "version": "3.8.3"
  }
 },
 "nbformat": 4,
 "nbformat_minor": 4
}
