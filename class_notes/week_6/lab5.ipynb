{
 "cells": [
  {
   "cell_type": "markdown",
   "metadata": {},
   "source": [
    "# Lab 5: Web API's"
   ]
  },
  {
   "cell_type": "code",
   "execution_count": 1,
   "metadata": {},
   "outputs": [],
   "source": [
    "from user_input import user_input\n",
    "from call_API import call_API       # built together as a class\n",
    "from clean_data import clean_data\n",
    "#from plot_data import plot_data"
   ]
  },
  {
   "cell_type": "code",
   "execution_count": 2,
   "metadata": {},
   "outputs": [
    {
     "name": "stdout",
     "output_type": "stream",
     "text": [
      "Which weather type (temperature, humidity, rainfall or pressure)? temperature\n",
      "How many data points (maximum of 8000)? 5\n",
      "                created_at  entry_id  field4\n",
      "0  2021-02-12 19:23:54 UTC   3239748    28.7\n",
      "1  2021-02-12 19:24:54 UTC   3239749    28.9\n",
      "2  2021-02-12 19:25:54 UTC   3239750    28.9\n",
      "3  2021-02-12 19:26:54 UTC   3239751    28.7\n",
      "4  2021-02-12 19:27:54 UTC   3239752    28.7\n",
      "[28.7 28.9 28.9 28.7 28.7]\n"
     ]
    }
   ],
   "source": [
    "# 1. ask the user for input: weather type, # of data points\n",
    "\n",
    "n, w_type = user_input()   # n is the number of data points, w_type is the selected weather type\n",
    "\n",
    "# 2. call the ThingSpeak Web API to get the data from thingspeak.com\n",
    "\n",
    "# n=3  # just used for testing\n",
    "# w_type=\"temperature\" # just used for testing\n",
    "df = call_API(n, w_type)\n",
    "print(df) # just used for testing       \n",
    "\n",
    "# 3. clean up the data so that we end up with a 1D array\n",
    "\n",
    "w_array = clean_data(df)\n",
    "print(w_array) # jus used for testing\n",
    "\n",
    "# 4. plot the data including the weather type on the y-axis label\n",
    "\n",
    "#plot_data(w_array, w_type)"
   ]
  },
  {
   "cell_type": "code",
   "execution_count": null,
   "metadata": {},
   "outputs": [],
   "source": []
  }
 ],
 "metadata": {
  "kernelspec": {
   "display_name": "Python 3",
   "language": "python",
   "name": "python3"
  },
  "language_info": {
   "codemirror_mode": {
    "name": "ipython",
    "version": 3
   },
   "file_extension": ".py",
   "mimetype": "text/x-python",
   "name": "python",
   "nbconvert_exporter": "python",
   "pygments_lexer": "ipython3",
   "version": "3.8.3"
  }
 },
 "nbformat": 4,
 "nbformat_minor": 4
}
