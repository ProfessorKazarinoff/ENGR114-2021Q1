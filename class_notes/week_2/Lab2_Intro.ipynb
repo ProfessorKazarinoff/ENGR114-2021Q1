{
 "cells": [
  {
   "cell_type": "markdown",
   "metadata": {},
   "source": [
    "# Lab 2\n",
    "\n",
    " * Name: Peter Kazarinoff\n",
    " * Date: 2021-01-13\n",
    " * Course: ENGR114\n",
    " * Quarter: Winter 2021\n"
   ]
  },
  {
   "cell_type": "markdown",
   "metadata": {},
   "source": [
    "## Strings and Comments"
   ]
  },
  {
   "cell_type": "code",
   "execution_count": 1,
   "metadata": {},
   "outputs": [
    {
     "name": "stdout",
     "output_type": "stream",
     "text": [
      "Hi Engineers!\n",
      "12345\n",
      "Teachers always say 'do your homework', at least that's what I've heard\n",
      "Ω or Omega\n"
     ]
    }
   ],
   "source": [
    "salutation=\"Hi Engineers!\"\n",
    "# this line is a comment\n",
    "print(salutation)\n",
    "print(\"12345\") # printing numbers this way makes them a string of characters\n",
    "# printing text that contains a quotation and quotation marks\n",
    "print(\"Teachers always say 'do your homework', at least that's what I've heard\")\n",
    "# printing a unicode character\n",
    "print(\"\\u03a9 or Omega\")"
   ]
  },
  {
   "cell_type": "markdown",
   "metadata": {},
   "source": [
    "### Exersizes"
   ]
  },
  {
   "cell_type": "markdown",
   "metadata": {},
   "source": [
    "#### Print your name and add a comment that it’s your name"
   ]
  },
  {
   "cell_type": "code",
   "execution_count": 2,
   "metadata": {},
   "outputs": [
    {
     "name": "stdout",
     "output_type": "stream",
     "text": [
      "Peter\n"
     ]
    }
   ],
   "source": [
    "print('Peter')  # my name is Peter"
   ]
  },
  {
   "cell_type": "code",
   "execution_count": 3,
   "metadata": {},
   "outputs": [
    {
     "name": "stdout",
     "output_type": "stream",
     "text": [
      " Volume in drive C is OS\n",
      " Volume Serial Number is 1236-A93E\n",
      "\n",
      " Directory of C:\\Users\\peter.kazarinoff\\Documents\\ENGR114-2021Q1\\class_notes\\week_2\n",
      "\n",
      "01/13/2021  11:05 AM    <DIR>          .\n",
      "01/13/2021  11:05 AM    <DIR>          ..\n",
      "01/13/2021  10:40 AM    <DIR>          .ipynb_checkpoints\n",
      "01/13/2021  10:48 AM             1,378 cat_in_hat_words.txt\n",
      "01/13/2021  11:05 AM             5,547 Lab2_Intro.ipynb\n",
      "01/13/2021  11:03 AM             1,589 week_2_agenda.ipynb\n",
      "01/13/2021  10:36 AM            11,289 week_2_notes_list_indexing_data_type_conversion_input_unicode.ipynb\n",
      "01/11/2021  12:35 PM            59,249 week_2_notes_variables_string_indexing_slicing_booleans.ipynb\n",
      "               5 File(s)         79,052 bytes\n",
      "               3 Dir(s)  103,842,840,576 bytes free\n"
     ]
    }
   ],
   "source": [
    "# make sure cat_in_hat_words.txt is in the same folder as this Jupyter notebook\n",
    "# make sure cat_in_hat_words.txt is not open in any other program\n",
    "# %ls used to list the contents of the current working directory\n",
    "%ls     "
   ]
  },
  {
   "cell_type": "code",
   "execution_count": 4,
   "metadata": {},
   "outputs": [],
   "source": [
    "with open('cat_in_hat_words.txt', 'r') as f:\n",
    "    words = [line.strip() for line in f.readlines()]"
   ]
  },
  {
   "cell_type": "code",
   "execution_count": 5,
   "metadata": {},
   "outputs": [
    {
     "name": "stdout",
     "output_type": "stream",
     "text": [
      "['a', 'about', 'after', 'all', 'always', 'and', 'another', 'any', 'are', 'as', 'asked', 'at', 'away', 'back', 'bad', 'ball', 'be', 'bed', 'bent', 'bet', 'big', 'bit', 'bite', 'book', 'books', 'bow', 'box', 'bump', 'bumps', 'but', 'by', 'ca', 'cake', 'call', 'came', 'can', 'cat', 'cold', 'come', 'could', 'cup', 'day', 'dear', 'deep', 'did', 'dish', 'do', 'dots', 'down', 'fall', 'fan', 'fast', 'fear', 'fell', 'find', 'fish', 'fly', 'for', 'fox', 'from', 'fun', 'funny', 'game', 'games', 'gave', 'get', 'give', 'go', 'gone', 'good', 'got', 'gown', 'had', 'hall', 'hand', 'hands', 'has', 'hat', 'have', 'he', 'head', 'hear', 'her', 'here', 'high', 'him', 'his', 'hit', 'hold', 'home', 'hook', 'hop', 'hops', 'house', 'how', 'i', 'if', 'in', 'into', 'is', 'it', 'jump', 'jumps', 'kicks', 'kind', 'kinds', 'kite', 'kites', 'know', 'last', 'let', 'like', 'lit', 'litte', 'little', 'look', 'looked', 'lot', 'lots', 'made', 'make', 'man', 'mat', 'me', 'mess', 'milk', 'mind', 'mother', 'my', 'near', 'net', 'new', 'no', 'not', 'nothing', 'now', 'of', 'oh', 'on', 'one', 'our', 'out', 'pack', 'pat', 'pick', 'picked', 'pink', 'play', 'playthings', 'plop', 'pot', 'put', 'rake', 'ran', 'red', 'rid', 'run', 'sad', 'said', 'sally', 'sank', 'sat', 'saw', 'say', 'see', 'shake', 'shame', 'she', 'shine', 'ship', 'shook', 'should', 'show', 'shut', 'sit', 'so', 'some', 'something', 'stand', 'step', 'stop', 'string', 'strings', 'sun', 'sunny', 'tail', 'take', 'tall', 'tame', 'tell', 'that', 'the', 'their', 'them', 'then', 'there', 'these', 'they', 'thing', 'things', 'think', 'this', 'thoe', 'those', 'thump', 'thumps', 'tip', 'to', 'too', 'top', 'toy', 'trick', 'tricks', 'two', 'up', 'us', 'wall', 'want', 'was', 'way', 'we', 'well', 'went', 'were', 'wet', 'what', 'when', 'white', 'who', 'why', 'will', 'wish', 'with', 'wood', 'would', 'yes', 'yet', 'you', 'your']\n"
     ]
    }
   ],
   "source": [
    "print(words)"
   ]
  },
  {
   "cell_type": "code",
   "execution_count": null,
   "metadata": {},
   "outputs": [],
   "source": []
  }
 ],
 "metadata": {
  "kernelspec": {
   "display_name": "Python 3",
   "language": "python",
   "name": "python3"
  },
  "language_info": {
   "codemirror_mode": {
    "name": "ipython",
    "version": 3
   },
   "file_extension": ".py",
   "mimetype": "text/x-python",
   "name": "python",
   "nbconvert_exporter": "python",
   "pygments_lexer": "ipython3",
   "version": "3.8.3"
  }
 },
 "nbformat": 4,
 "nbformat_minor": 4
}
