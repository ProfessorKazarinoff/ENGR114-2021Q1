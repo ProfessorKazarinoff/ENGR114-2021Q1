{
 "cells": [
  {
   "cell_type": "markdown",
   "metadata": {},
   "source": [
    "# Week 2 Agenda"
   ]
  },
  {
   "cell_type": "markdown",
   "metadata": {},
   "source": [
    "## Lecture Agenda\n",
    "\n",
    " * Review D2L, calendar\n",
    " * Review of variables, string indexing/slicing\n",
    " * Boolean data type and boolean logic\n",
    " * Break\n",
    " * Data types: number types (integers, floats, complex), booleans, strings\n",
    " * Break\n",
    " * Data types: lists, tuples, dictionaries, sets and data type conversion\n",
    " * Wrap-Up: D2L, next HW assignment\n",
    " "
   ]
  },
  {
   "cell_type": "markdown",
   "metadata": {},
   "source": [
    "## Lab Agenda\n",
    "\n",
    " * D2L, what's due when\n",
    " * Review lists and list indexing\n",
    " * Data type conversion\n",
    " * Python's Input Function\n",
    " * Break\n",
    " * Unicode characters in Python\n",
    " * Lab 2 Intro, then work on your own\n",
    " * Review of D2L, what's due this week, what's due next week\n"
   ]
  },
  {
   "cell_type": "code",
   "execution_count": null,
   "metadata": {},
   "outputs": [],
   "source": []
  }
 ],
 "metadata": {
  "kernelspec": {
   "display_name": "Python 3",
   "language": "python",
   "name": "python3"
  },
  "language_info": {
   "codemirror_mode": {
    "name": "ipython",
    "version": 3
   },
   "file_extension": ".py",
   "mimetype": "text/x-python",
   "name": "python",
   "nbconvert_exporter": "python",
   "pygments_lexer": "ipython3",
   "version": "3.8.3"
  }
 },
 "nbformat": 4,
 "nbformat_minor": 4
}
