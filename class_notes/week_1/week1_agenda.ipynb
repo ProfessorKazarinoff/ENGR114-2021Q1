{
 "cells": [
  {
   "cell_type": "markdown",
   "metadata": {},
   "source": [
    "# Welcome to ENGR114!"
   ]
  },
  {
   "cell_type": "markdown",
   "metadata": {},
   "source": [
    "## Topics to cover today"
   ]
  },
  {
   "cell_type": "markdown",
   "metadata": {},
   "source": [
    " * Welcome\n",
    " * Syllabus, Course Info, Course Resources\n",
    " * Break\n",
    " * Introductions from Students\n",
    " * Installing the Anaconda distribution of Python\n",
    " * Break\n",
    " * Jupyter Notebooks,\n",
    " * Getting started on homework 1\n",
    " * Questions?\n",
    " * By end of class, upload a .ipynb file and a .py file to D2L --> Content --> Week 1 --> "
   ]
  },
  {
   "cell_type": "code",
   "execution_count": null,
   "metadata": {},
   "outputs": [],
   "source": []
  }
 ],
 "metadata": {
  "kernelspec": {
   "display_name": "Python 3",
   "language": "python",
   "name": "python3"
  },
  "language_info": {
   "codemirror_mode": {
    "name": "ipython",
    "version": 3
   },
   "file_extension": ".py",
   "mimetype": "text/x-python",
   "name": "python",
   "nbconvert_exporter": "python",
   "pygments_lexer": "ipython3",
   "version": "3.8.3"
  }
 },
 "nbformat": 4,
 "nbformat_minor": 4
}
