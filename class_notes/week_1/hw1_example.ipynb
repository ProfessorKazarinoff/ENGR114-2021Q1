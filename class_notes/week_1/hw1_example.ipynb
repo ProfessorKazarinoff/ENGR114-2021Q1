{
 "cells": [
  {
   "cell_type": "markdown",
   "metadata": {},
   "source": [
    "# Homework 1 (Example) by Peter Kazarinoff"
   ]
  },
  {
   "cell_type": "markdown",
   "metadata": {},
   "source": [
    "### Q01.01 What is Python? How is the Python language different than the Python Interpreter?"
   ]
  },
  {
   "cell_type": "markdown",
   "metadata": {},
   "source": [
    "Python is a computer programming language. It is free and open source. Python is used in Data Science and Machine Learning as well as web design. \n",
    "\n",
    "Python is really two different things: 1. Language Specification 2. Python Interpreter.\n",
    "\n",
    "1. Language Specification: Specifies why kind of code is valid python code. Which things are valid python fuctions, valid data types and valid syntax.\n",
    "\n",
    "2. Python Interpreter: A program or run-time that runs on your computer to execute or run Python code. The default Python interpretor is the C-Python interpretor."
   ]
  },
  {
   "cell_type": "markdown",
   "metadata": {},
   "source": [
    "### Q03.01 2 + 1/2"
   ]
  },
  {
   "cell_type": "code",
   "execution_count": 1,
   "metadata": {},
   "outputs": [
    {
     "data": {
      "text/plain": [
       "2.5"
      ]
     },
     "execution_count": 1,
     "metadata": {},
     "output_type": "execute_result"
    }
   ],
   "source": [
    "2 + 1/2"
   ]
  },
  {
   "cell_type": "code",
   "execution_count": null,
   "metadata": {},
   "outputs": [],
   "source": []
  }
 ],
 "metadata": {
  "kernelspec": {
   "display_name": "Python 3",
   "language": "python",
   "name": "python3"
  },
  "language_info": {
   "codemirror_mode": {
    "name": "ipython",
    "version": 3
   },
   "file_extension": ".py",
   "mimetype": "text/x-python",
   "name": "python",
   "nbconvert_exporter": "python",
   "pygments_lexer": "ipython3",
   "version": "3.8.3"
  }
 },
 "nbformat": 4,
 "nbformat_minor": 4
}
