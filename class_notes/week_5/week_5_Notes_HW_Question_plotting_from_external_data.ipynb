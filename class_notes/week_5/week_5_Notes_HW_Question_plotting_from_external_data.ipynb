{
 "cells": [
  {
   "cell_type": "markdown",
   "metadata": {},
   "source": [
    "# Week 5 Notes: Homework Q, plotting data from external files"
   ]
  },
  {
   "cell_type": "markdown",
   "metadata": {},
   "source": [
    "## Homework Question Q05.33"
   ]
  },
  {
   "cell_type": "markdown",
   "metadata": {},
   "source": [
    "Q05.33 The 1D NumPy array F is defined below. But construct your code to work with any 1D NumPy array filled with numbers.\n",
    "\n",
    "F = np.array([5, -4.7, 99, 50, 6, -1, 0, 50, -78, 27, 10])\n",
    "\n",
    "(a) Select all the elements from F that are greater than 5 and store them in x.\n",
    "\n",
    "(b) Select all of the elements from F that are between 5 and 30. Store them in y.\n",
    "\n",
    "(c) Select all of the elements from F that are between 5 and 30 or that are equal to 50. Store them in z."
   ]
  },
  {
   "cell_type": "code",
   "execution_count": 1,
   "metadata": {},
   "outputs": [],
   "source": [
    "import numpy as np"
   ]
  },
  {
   "cell_type": "code",
   "execution_count": 2,
   "metadata": {},
   "outputs": [],
   "source": [
    "F = np.array([5, -4.7, 99, 50, 6, -1, 0, 50, -78, 27, 10])"
   ]
  },
  {
   "cell_type": "code",
   "execution_count": 3,
   "metadata": {},
   "outputs": [
    {
     "data": {
      "text/plain": [
       "array([  5. ,  -4.7,  99. ,  50. ,   6. ,  -1. ,   0. ,  50. , -78. ,\n",
       "        27. ,  10. ])"
      ]
     },
     "execution_count": 3,
     "metadata": {},
     "output_type": "execute_result"
    }
   ],
   "source": [
    "F"
   ]
  },
  {
   "cell_type": "code",
   "execution_count": 4,
   "metadata": {},
   "outputs": [
    {
     "name": "stdout",
     "output_type": "stream",
     "text": [
      "[99. 50.  6. 50. 27. 10.]\n"
     ]
    }
   ],
   "source": [
    "# (a) Select all the elements from F that are greater than 5 and store them in x\n",
    "mask1 = F>5\n",
    "x = F[mask1]\n",
    "print(x)"
   ]
  },
  {
   "cell_type": "code",
   "execution_count": 5,
   "metadata": {},
   "outputs": [
    {
     "name": "stdout",
     "output_type": "stream",
     "text": [
      "[ 6. 27. 10.]\n"
     ]
    }
   ],
   "source": [
    "# (b) Select all of the elements from F that are between 5 and 30. Store them in y.\n",
    "mask2 = 5<F\n",
    "mask3 = F<30\n",
    "# np.logical_and?\n",
    "mask4 = np.logical_and(mask2,mask3)\n",
    "y = F[mask4]\n",
    "print(y)"
   ]
  },
  {
   "cell_type": "code",
   "execution_count": 6,
   "metadata": {},
   "outputs": [
    {
     "name": "stdout",
     "output_type": "stream",
     "text": [
      "[50.  6. 50. 27. 10.]\n"
     ]
    }
   ],
   "source": [
    "# (c) Select all of the elements from F that are between 5 and 30 or that are equal to 50. Store them in z.\n",
    "mask2 = 5<F\n",
    "mask3 = F<30\n",
    "# Select all of the elements from F that are between 5 and 30\n",
    "mask4 = np.logical_and(mask2,mask3)\n",
    "# Select all of the elements from F that are equal to 50\n",
    "mask5 = F==50\n",
    "# Select all of the elements from F that are between 5 and 30 or equal to 50\n",
    "mask6 = np.logical_or(mask4,mask5)\n",
    "z = F[mask6]\n",
    "print(z)"
   ]
  },
  {
   "cell_type": "markdown",
   "metadata": {},
   "source": [
    "## Example 1: Tide Data"
   ]
  },
  {
   "cell_type": "markdown",
   "metadata": {},
   "source": [
    "Download the tide_data.csv file from D2L-->Contents-->Week 4--> tide_data.csv. Move tide_data.csv into the same folder as the running Jupyter notebook."
   ]
  },
  {
   "cell_type": "markdown",
   "metadata": {},
   "source": [
    "#### Check tide_data.csv is in fact in the same folder as this running Jupyter notebook"
   ]
  },
  {
   "cell_type": "code",
   "execution_count": 7,
   "metadata": {},
   "outputs": [
    {
     "name": "stdout",
     "output_type": "stream",
     "text": [
      " Volume in drive C is OS\n",
      " Volume Serial Number is 1236-A93E\n",
      "\n",
      " Directory of C:\\Users\\peter.kazarinoff\\Documents\\ENGR114-2021Q1\\class_notes\\week_5\n",
      "\n",
      "02/01/2021  11:48 AM    <DIR>          .\n",
      "02/01/2021  11:48 AM    <DIR>          ..\n",
      "02/01/2021  09:29 AM    <DIR>          .ipynb_checkpoints\n",
      "02/01/2021  09:09 AM             1,556 Agenda_week_5.ipynb\n",
      "02/01/2021  11:25 AM            11,670 FET_data.xlsx\n",
      "02/01/2021  11:46 AM            19,505 fet_plot.png\n",
      "02/01/2021  10:09 AM             6,903 tide_data.csv\n",
      "02/01/2021  11:19 AM            19,380 tide_data_plot.png\n",
      "02/01/2021  11:48 AM            68,341 week_5_Notes_HW_Question_plotting_from_external_data.ipynb\n",
      "               6 File(s)        127,355 bytes\n",
      "               3 Dir(s)  76,366,577,664 bytes free\n"
     ]
    }
   ],
   "source": [
    "%ls"
   ]
  },
  {
   "cell_type": "markdown",
   "metadata": {},
   "source": [
    "#### Imports\n",
    "\n",
    "NumPy for arrays, Matplotlib for plotting, and Pandas for bringing the data into the notebook"
   ]
  },
  {
   "cell_type": "code",
   "execution_count": 8,
   "metadata": {},
   "outputs": [],
   "source": [
    "import numpy as np\n",
    "import pandas as pd\n",
    "import matplotlib.pyplot as plt\n",
    "%matplotlib inline"
   ]
  },
  {
   "cell_type": "markdown",
   "metadata": {},
   "source": [
    "#### Pull in the data from tide_data.csv using pandas and take a look at it"
   ]
  },
  {
   "cell_type": "code",
   "execution_count": 9,
   "metadata": {},
   "outputs": [
    {
     "data": {
      "text/html": [
       "<div>\n",
       "<style scoped>\n",
       "    .dataframe tbody tr th:only-of-type {\n",
       "        vertical-align: middle;\n",
       "    }\n",
       "\n",
       "    .dataframe tbody tr th {\n",
       "        vertical-align: top;\n",
       "    }\n",
       "\n",
       "    .dataframe thead th {\n",
       "        text-align: right;\n",
       "    }\n",
       "</style>\n",
       "<table border=\"1\" class=\"dataframe\">\n",
       "  <thead>\n",
       "    <tr style=\"text-align: right;\">\n",
       "      <th></th>\n",
       "      <th>Date Time</th>\n",
       "      <th>Hours</th>\n",
       "      <th>Water Level</th>\n",
       "    </tr>\n",
       "  </thead>\n",
       "  <tbody>\n",
       "    <tr>\n",
       "      <th>236</th>\n",
       "      <td>10/2/2017 23:36</td>\n",
       "      <td>23.6</td>\n",
       "      <td>-0.192</td>\n",
       "    </tr>\n",
       "    <tr>\n",
       "      <th>237</th>\n",
       "      <td>10/2/2017 23:42</td>\n",
       "      <td>23.7</td>\n",
       "      <td>-0.182</td>\n",
       "    </tr>\n",
       "    <tr>\n",
       "      <th>238</th>\n",
       "      <td>10/2/2017 23:48</td>\n",
       "      <td>23.8</td>\n",
       "      <td>-0.169</td>\n",
       "    </tr>\n",
       "    <tr>\n",
       "      <th>239</th>\n",
       "      <td>10/2/2017 23:54</td>\n",
       "      <td>23.9</td>\n",
       "      <td>-0.157</td>\n",
       "    </tr>\n",
       "    <tr>\n",
       "      <th>240</th>\n",
       "      <td>10/3/2017 0:00</td>\n",
       "      <td>24.0</td>\n",
       "      <td>-0.141</td>\n",
       "    </tr>\n",
       "  </tbody>\n",
       "</table>\n",
       "</div>"
      ],
      "text/plain": [
       "           Date Time  Hours   Water Level\n",
       "236  10/2/2017 23:36   23.6        -0.192\n",
       "237  10/2/2017 23:42   23.7        -0.182\n",
       "238  10/2/2017 23:48   23.8        -0.169\n",
       "239  10/2/2017 23:54   23.9        -0.157\n",
       "240   10/3/2017 0:00   24.0        -0.141"
      ]
     },
     "execution_count": 9,
     "metadata": {},
     "output_type": "execute_result"
    }
   ],
   "source": [
    "df = pd.read_csv(\"tide_data.csv\")\n",
    "df.tail()"
   ]
  },
  {
   "cell_type": "markdown",
   "metadata": {},
   "source": [
    "#### Create a NumPy array that just has two columns, one column for Hours and one Column for Water Level"
   ]
  },
  {
   "cell_type": "code",
   "execution_count": 10,
   "metadata": {},
   "outputs": [
    {
     "name": "stdout",
     "output_type": "stream",
     "text": [
      "Index(['Date Time', 'Hours', ' Water Level'], dtype='object')\n"
     ]
    },
    {
     "data": {
      "text/html": [
       "<div>\n",
       "<style scoped>\n",
       "    .dataframe tbody tr th:only-of-type {\n",
       "        vertical-align: middle;\n",
       "    }\n",
       "\n",
       "    .dataframe tbody tr th {\n",
       "        vertical-align: top;\n",
       "    }\n",
       "\n",
       "    .dataframe thead th {\n",
       "        text-align: right;\n",
       "    }\n",
       "</style>\n",
       "<table border=\"1\" class=\"dataframe\">\n",
       "  <thead>\n",
       "    <tr style=\"text-align: right;\">\n",
       "      <th></th>\n",
       "      <th>Hours</th>\n",
       "      <th>Water Level</th>\n",
       "    </tr>\n",
       "  </thead>\n",
       "  <tbody>\n",
       "    <tr>\n",
       "      <th>0</th>\n",
       "      <td>0.0</td>\n",
       "      <td>-0.029</td>\n",
       "    </tr>\n",
       "    <tr>\n",
       "      <th>1</th>\n",
       "      <td>0.1</td>\n",
       "      <td>0.002</td>\n",
       "    </tr>\n",
       "    <tr>\n",
       "      <th>2</th>\n",
       "      <td>0.2</td>\n",
       "      <td>0.032</td>\n",
       "    </tr>\n",
       "    <tr>\n",
       "      <th>3</th>\n",
       "      <td>0.3</td>\n",
       "      <td>0.058</td>\n",
       "    </tr>\n",
       "    <tr>\n",
       "      <th>4</th>\n",
       "      <td>0.4</td>\n",
       "      <td>0.089</td>\n",
       "    </tr>\n",
       "  </tbody>\n",
       "</table>\n",
       "</div>"
      ],
      "text/plain": [
       "   Hours   Water Level\n",
       "0    0.0        -0.029\n",
       "1    0.1         0.002\n",
       "2    0.2         0.032\n",
       "3    0.3         0.058\n",
       "4    0.4         0.089"
      ]
     },
     "execution_count": 10,
     "metadata": {},
     "output_type": "execute_result"
    }
   ],
   "source": [
    "print(df.columns)\n",
    "df.drop(columns=['Date Time'], inplace=True)\n",
    "df.head()"
   ]
  },
  {
   "cell_type": "code",
   "execution_count": 11,
   "metadata": {},
   "outputs": [],
   "source": [
    "# convert the data\n",
    "td = np.array(df)\n",
    "# print(td)"
   ]
  },
  {
   "cell_type": "code",
   "execution_count": 12,
   "metadata": {},
   "outputs": [
    {
     "name": "stdout",
     "output_type": "stream",
     "text": [
      "The water level at high tide is: 0.553 m and the water level at low tide is: -0.515 m\n"
     ]
    }
   ],
   "source": [
    "# print out the water level at high tide and the water level at low tide\n",
    "wl = td[:,1]\n",
    "#print(wl)\n",
    "wl_ht = np.max(wl)\n",
    "wl_lt = np.min(wl)\n",
    "print(f\"The water level at high tide is: {round(wl_ht,3)} m and the water level at low tide is: {round(wl_lt,3)} m\")"
   ]
  },
  {
   "cell_type": "code",
   "execution_count": 13,
   "metadata": {},
   "outputs": [
    {
     "name": "stdout",
     "output_type": "stream",
     "text": [
      "The time between high tide and low tide is 5.1 hrs\n"
     ]
    }
   ],
   "source": [
    "# print out how long in between high tide and low tide\n",
    "mask_lt = wl==wl_lt\n",
    "mask_ht = wl==wl_ht\n",
    "hrs = td[:,0]\n",
    "t_lt = hrs[mask_lt]\n",
    "t_ht = hrs[mask_ht]\n",
    "t_between = t_ht - t_lt\n",
    "print(f\"The time between high tide and low tide is {t_between[0]} hrs\")"
   ]
  },
  {
   "cell_type": "markdown",
   "metadata": {},
   "source": [
    "#### Build a plot of the tide data"
   ]
  },
  {
   "cell_type": "code",
   "execution_count": 14,
   "metadata": {},
   "outputs": [
    {
     "data": {
      "image/png": "[encoded data removed]",
      "text/plain": [
       "<Figure size 432x288 with 1 Axes>"
      ]
     },
     "metadata": {
      "needs_background": "light"
     },
     "output_type": "display_data"
    }
   ],
   "source": [
    "# imports (already done)\n",
    "\n",
    "# data (already done, wl array is the water level and hrs array is the number of hours)\n",
    "\n",
    "# fig, ax object\n",
    "fig, ax = plt.subplots()\n",
    "\n",
    "# plot the data\n",
    "ax.plot(hrs,wl)\n",
    "\n",
    "# customize the plot\n",
    "ax.set_xlabel('Time (hrs)')\n",
    "ax.set_ylabel('Tide Level (m)')\n",
    "ax.set_title('Tide Level Over 24 Hours')\n",
    "ax.legend(['tide level (m)'])\n",
    "\n",
    "# save and show the plot\n",
    "plt.savefig('tide_data_plot.png', dpi=72)\n",
    "plt.show()"
   ]
  },
  {
   "cell_type": "markdown",
   "metadata": {},
   "source": [
    "## Example 2: FET Data"
   ]
  },
  {
   "cell_type": "code",
   "execution_count": 15,
   "metadata": {},
   "outputs": [],
   "source": [
    "# imports\n",
    "import numpy as np\n",
    "import pandas as pd\n",
    "import matplotlib.pyplot as plt\n",
    "%matplotlib inline"
   ]
  },
  {
   "cell_type": "code",
   "execution_count": 16,
   "metadata": {},
   "outputs": [
    {
     "name": "stdout",
     "output_type": "stream",
     "text": [
      " Volume in drive C is OS\n",
      " Volume Serial Number is 1236-A93E\n",
      "\n",
      " Directory of C:\\Users\\peter.kazarinoff\\Documents\\ENGR114-2021Q1\\class_notes\\week_5\n",
      "\n",
      "02/01/2021  11:48 AM    <DIR>          .\n",
      "02/01/2021  11:48 AM    <DIR>          ..\n",
      "02/01/2021  09:29 AM    <DIR>          .ipynb_checkpoints\n",
      "02/01/2021  09:09 AM             1,556 Agenda_week_5.ipynb\n",
      "02/01/2021  11:25 AM            11,670 FET_data.xlsx\n",
      "02/01/2021  11:46 AM            19,505 fet_plot.png\n",
      "02/01/2021  10:09 AM             6,903 tide_data.csv\n",
      "02/01/2021  11:57 AM            19,380 tide_data_plot.png\n",
      "02/01/2021  11:48 AM            68,341 week_5_Notes_HW_Question_plotting_from_external_data.ipynb\n",
      "               6 File(s)        127,355 bytes\n",
      "               3 Dir(s)  76,366,577,664 bytes free\n"
     ]
    }
   ],
   "source": [
    "# make sure fet_data.xlsx file is in the same folder as this running Jupyter notebook\n",
    "%ls"
   ]
  },
  {
   "cell_type": "code",
   "execution_count": 17,
   "metadata": {},
   "outputs": [
    {
     "data": {
      "text/html": [
       "<div>\n",
       "<style scoped>\n",
       "    .dataframe tbody tr th:only-of-type {\n",
       "        vertical-align: middle;\n",
       "    }\n",
       "\n",
       "    .dataframe tbody tr th {\n",
       "        vertical-align: top;\n",
       "    }\n",
       "\n",
       "    .dataframe thead th {\n",
       "        text-align: right;\n",
       "    }\n",
       "</style>\n",
       "<table border=\"1\" class=\"dataframe\">\n",
       "  <thead>\n",
       "    <tr style=\"text-align: right;\">\n",
       "      <th></th>\n",
       "      <th>0</th>\n",
       "      <th>1</th>\n",
       "    </tr>\n",
       "  </thead>\n",
       "  <tbody>\n",
       "    <tr>\n",
       "      <th>0</th>\n",
       "      <td>-40</td>\n",
       "      <td>8.170000e-10</td>\n",
       "    </tr>\n",
       "    <tr>\n",
       "      <th>1</th>\n",
       "      <td>-39</td>\n",
       "      <td>1.190000e-09</td>\n",
       "    </tr>\n",
       "    <tr>\n",
       "      <th>2</th>\n",
       "      <td>-38</td>\n",
       "      <td>1.070000e-09</td>\n",
       "    </tr>\n",
       "    <tr>\n",
       "      <th>3</th>\n",
       "      <td>-37</td>\n",
       "      <td>1.350000e-09</td>\n",
       "    </tr>\n",
       "    <tr>\n",
       "      <th>4</th>\n",
       "      <td>-36</td>\n",
       "      <td>1.410000e-09</td>\n",
       "    </tr>\n",
       "  </tbody>\n",
       "</table>\n",
       "</div>"
      ],
      "text/plain": [
       "    0             1\n",
       "0 -40  8.170000e-10\n",
       "1 -39  1.190000e-09\n",
       "2 -38  1.070000e-09\n",
       "3 -37  1.350000e-09\n",
       "4 -36  1.410000e-09"
      ]
     },
     "execution_count": 17,
     "metadata": {},
     "output_type": "execute_result"
    }
   ],
   "source": [
    "# pull in the fet_data.xlsx data file into a Pandas dataframe and convert to a NumPy array\n",
    "df = pd.read_excel('FET_data.xlsx', header=None)\n",
    "df.head()"
   ]
  },
  {
   "cell_type": "code",
   "execution_count": 18,
   "metadata": {},
   "outputs": [
    {
     "name": "stdout",
     "output_type": "stream",
     "text": [
      "[[-4.00e+01  8.17e-10]\n",
      " [-3.90e+01  1.19e-09]\n",
      " [-3.80e+01  1.07e-09]\n",
      " [-3.70e+01  1.35e-09]\n",
      " [-3.60e+01  1.41e-09]\n",
      " [-3.50e+01  1.44e-09]\n",
      " [-3.40e+01  7.10e-10]\n",
      " [-3.30e+01  1.19e-09]\n",
      " [-3.20e+01  1.10e-09]\n",
      " [-3.10e+01  5.32e-10]\n",
      " [-3.00e+01  4.80e-10]\n",
      " [-2.90e+01  7.75e-10]\n",
      " [-2.80e+01  1.40e-09]\n",
      " [-2.70e+01  5.71e-10]\n",
      " [-2.60e+01  7.66e-10]\n",
      " [-2.50e+01  4.45e-10]\n",
      " [-2.40e+01  8.83e-10]\n",
      " [-2.30e+01  4.26e-10]\n",
      " [-2.20e+01  5.76e-10]\n",
      " [-2.10e+01  7.20e-10]\n",
      " [-2.00e+01  8.99e-10]\n",
      " [-1.90e+01  9.45e-10]\n",
      " [-1.80e+01  5.12e-10]\n",
      " [-1.70e+01  2.79e-10]\n",
      " [-1.60e+01  2.71e-10]\n",
      " [-1.50e+01  3.01e-10]\n",
      " [-1.40e+01  6.44e-10]\n",
      " [-1.30e+01  2.74e-10]\n",
      " [-1.20e+01  5.69e-10]\n",
      " [-1.10e+01  2.48e-10]\n",
      " [-1.00e+01  6.11e-10]\n",
      " [-9.00e+00  2.63e-10]\n",
      " [-8.00e+00  2.03e-10]\n",
      " [-7.00e+00  2.10e-10]\n",
      " [-6.00e+00  3.33e-10]\n",
      " [-5.00e+00  2.61e-10]\n",
      " [-4.00e+00  2.11e-10]\n",
      " [-3.00e+00  3.92e-10]\n",
      " [-2.00e+00  2.68e-10]\n",
      " [-1.00e+00  2.44e-10]\n",
      " [ 0.00e+00  3.88e-10]\n",
      " [ 1.00e+00  2.76e-10]\n",
      " [ 2.00e+00  2.26e-10]\n",
      " [ 3.00e+00  1.33e-10]\n",
      " [ 4.00e+00  1.09e-10]\n",
      " [ 5.00e+00  2.47e-10]\n",
      " [ 6.00e+00  7.94e-10]\n",
      " [ 7.00e+00  3.04e-09]\n",
      " [ 8.00e+00  7.93e-09]\n",
      " [ 9.00e+00  1.33e-08]\n",
      " [ 1.00e+01  2.84e-08]\n",
      " [ 1.10e+01  5.04e-08]\n",
      " [ 1.20e+01  8.06e-08]\n",
      " [ 1.30e+01  1.07e-07]\n",
      " [ 1.40e+01  1.59e-07]\n",
      " [ 1.50e+01  2.20e-07]\n",
      " [ 1.60e+01  2.91e-07]\n",
      " [ 1.70e+01  3.78e-07]\n",
      " [ 1.80e+01  4.76e-07]\n",
      " [ 1.90e+01  5.88e-07]\n",
      " [ 2.00e+01  7.12e-07]\n",
      " [ 2.10e+01  8.52e-07]\n",
      " [ 2.20e+01  9.88e-07]\n",
      " [ 2.30e+01  1.11e-06]\n",
      " [ 2.40e+01  1.30e-06]\n",
      " [ 2.50e+01  1.51e-06]\n",
      " [ 2.60e+01  1.73e-06]\n",
      " [ 2.70e+01  1.97e-06]\n",
      " [ 2.80e+01  2.23e-06]\n",
      " [ 2.90e+01  2.50e-06]\n",
      " [ 3.00e+01  2.79e-06]\n",
      " [ 3.10e+01  3.10e-06]\n",
      " [ 3.20e+01  3.43e-06]\n",
      " [ 3.30e+01  3.79e-06]\n",
      " [ 3.40e+01  4.15e-06]\n",
      " [ 3.50e+01  4.54e-06]\n",
      " [ 3.60e+01  4.94e-06]\n",
      " [ 3.70e+01  5.37e-06]\n",
      " [ 3.80e+01  5.81e-06]\n",
      " [ 3.90e+01  6.29e-06]\n",
      " [ 4.00e+01  6.78e-06]\n",
      " [ 4.10e+01  7.29e-06]\n",
      " [ 4.20e+01  8.07e-06]\n",
      " [ 4.30e+01  8.48e-06]\n",
      " [ 4.40e+01  9.02e-06]\n",
      " [ 4.50e+01  9.59e-06]\n",
      " [ 4.60e+01  1.02e-05]\n",
      " [ 4.70e+01  1.07e-05]\n",
      " [ 4.80e+01  1.13e-05]\n",
      " [ 4.90e+01  1.20e-05]\n",
      " [ 5.00e+01  1.27e-05]\n",
      " [ 5.10e+01  1.34e-05]\n",
      " [ 5.20e+01  1.42e-05]\n",
      " [ 5.30e+01  1.49e-05]\n",
      " [ 5.40e+01  1.57e-05]\n",
      " [ 5.50e+01  1.65e-05]\n",
      " [ 5.60e+01  1.74e-05]\n",
      " [ 5.70e+01  1.82e-05]\n",
      " [ 5.80e+01  1.91e-05]\n",
      " [ 5.90e+01  2.00e-05]\n",
      " [ 6.00e+01  2.09e-05]\n",
      " [ 6.10e+01  2.18e-05]\n",
      " [ 6.20e+01  2.28e-05]\n",
      " [ 6.30e+01  2.38e-05]\n",
      " [ 6.40e+01  2.48e-05]\n",
      " [ 6.50e+01  2.59e-05]\n",
      " [ 6.60e+01  2.69e-05]\n",
      " [ 6.70e+01  2.80e-05]\n",
      " [ 6.80e+01  2.92e-05]\n",
      " [ 6.90e+01  3.03e-05]\n",
      " [ 7.00e+01  3.15e-05]\n",
      " [ 7.10e+01  3.27e-05]\n",
      " [ 7.20e+01  3.39e-05]\n",
      " [ 7.30e+01  3.52e-05]\n",
      " [ 7.40e+01  3.65e-05]\n",
      " [ 7.50e+01  3.79e-05]\n",
      " [ 7.60e+01  3.92e-05]\n",
      " [ 7.70e+01  4.07e-05]\n",
      " [ 7.80e+01  4.21e-05]\n",
      " [ 7.90e+01  4.36e-05]\n",
      " [ 8.00e+01  4.52e-05]\n",
      " [ 8.10e+01  4.68e-05]\n",
      " [ 8.20e+01  4.85e-05]\n",
      " [ 8.30e+01  5.02e-05]\n",
      " [ 8.40e+01  5.20e-05]\n",
      " [ 8.50e+01  5.38e-05]\n",
      " [ 8.60e+01  5.58e-05]\n",
      " [ 8.70e+01  5.78e-05]\n",
      " [ 8.80e+01  5.99e-05]\n",
      " [ 8.90e+01  6.21e-05]\n",
      " [ 9.00e+01  6.44e-05]\n",
      " [ 9.10e+01  6.68e-05]\n",
      " [ 9.20e+01  6.92e-05]\n",
      " [ 9.30e+01  7.18e-05]\n",
      " [ 9.40e+01  7.45e-05]\n",
      " [ 9.50e+01  7.73e-05]\n",
      " [ 9.60e+01  8.02e-05]\n",
      " [ 9.70e+01  8.33e-05]\n",
      " [ 9.80e+01  8.65e-05]\n",
      " [ 9.90e+01  8.98e-05]\n",
      " [ 1.00e+02  9.32e-05]]\n"
     ]
    }
   ],
   "source": [
    "fet = np.array(df)\n",
    "print(fet)"
   ]
  },
  {
   "cell_type": "code",
   "execution_count": 19,
   "metadata": {},
   "outputs": [
    {
     "name": "stdout",
     "output_type": "stream",
     "text": [
      "The max current is: 9.32e-05 A, the min current is: 1.09e-10 A, and the on/off ratio is 855046.0\n"
     ]
    }
   ],
   "source": [
    "# find the max amount of current, the min amount of current and the on/off ratio (ratio between min and max)\n",
    "v = fet[:,0]\n",
    "i = fet[:,1]\n",
    "i_max = np.max(i)\n",
    "i_min = np.min(i)\n",
    "i_on_off = i_max/i_min\n",
    "print(f\"The max current is: {i_max} A, the min current is: {i_min} A, and the on/off ratio is {round(i_on_off,0)}\")"
   ]
  },
  {
   "cell_type": "markdown",
   "metadata": {},
   "source": [
    "### Plot"
   ]
  },
  {
   "cell_type": "code",
   "execution_count": 20,
   "metadata": {},
   "outputs": [
    {
     "data": {
      "image/png": "[encoded data removed]",
      "text/plain": [
       "<Figure size 432x288 with 1 Axes>"
      ]
     },
     "metadata": {
      "needs_background": "light"
     },
     "output_type": "display_data"
    }
   ],
   "source": [
    "# imports - done\n",
    "\n",
    "# data - done, v is voltage array, i is current array\n",
    "\n",
    "# fig, ax\n",
    "fig, ax = plt.subplots()\n",
    "\n",
    "# plot data\n",
    "ax.semilogy(v,i)\n",
    "\n",
    "# customize the plot\n",
    "ax.set_xlabel('Voltage (V)')\n",
    "ax.set_ylabel('Current (A)')\n",
    "ax.set_title('Current in a FET over a range of voltages')\n",
    "ax.legend(['Current (A)'])\n",
    "\n",
    "# save and show the plot\n",
    "plt.savefig('fet_plot.png', dpi=72)\n",
    "plt.show()"
   ]
  },
  {
   "cell_type": "code",
   "execution_count": null,
   "metadata": {},
   "outputs": [],
   "source": []
  }
 ],
 "metadata": {
  "kernelspec": {
   "display_name": "Python 3",
   "language": "python",
   "name": "python3"
  },
  "language_info": {
   "codemirror_mode": {
    "name": "ipython",
    "version": 3
   },
   "file_extension": ".py",
   "mimetype": "text/x-python",
   "name": "python",
   "nbconvert_exporter": "python",
   "pygments_lexer": "ipython3",
   "version": "3.8.3"
  }
 },
 "nbformat": 4,
 "nbformat_minor": 4
}
