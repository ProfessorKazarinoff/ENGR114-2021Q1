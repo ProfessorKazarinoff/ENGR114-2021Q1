{
 "cells": [
  {
   "cell_type": "markdown",
   "metadata": {},
   "source": [
    "# ENGR114 Syllabus - Winter 2021"
   ]
  },
  {
   "cell_type": "markdown",
   "metadata": {},
   "source": [
    "## Welcome\n",
    "\n",
    "Welcome to the course! I'm your instructor Peter. I'm here to help guide you through learning how to solve engineering problems with programming. I'm excited to work with you this quarter. I strive to create a safe and nurturing learning environment for all students."
   ]
  },
  {
   "cell_type": "markdown",
   "metadata": {},
   "source": [
    "## Instructor Information\n",
    "\n",
    " * Instructor: Peter Kazarinoff\n",
    " * Instructor email: peter.kazarinoff@pcc.edu\n",
    " * Office Hours: Wed 1:00pm-3:00pm and Thurs 1:00pm-4:00pm\n",
    " * Office Location: Online over Zoom"
   ]
  },
  {
   "cell_type": "markdown",
   "metadata": {},
   "source": [
    "## Course Information\n",
    "\n",
    "### Course Description\n",
    "\n",
    " * Credits: 4\n",
    " * Prerequisites: ENGR 101 or department-approved equivalent\n",
    " * Summary: Introduces computer programming terminology and techniques as applied to specific engineering applications. Topics include electrical circuit analysis, audio signal processing, image processing, and interfacing with hardware such as microcontrollers and analog-to-digital converters application. The course covers reading and documenting code, running and testing code, and debugging and correcting defects found in code. \n",
    " \n",
    "### Course Meeting Times and Locations\n",
    "\n",
    " * Lecture: CRN 13449 - Mon 9am-11:50am over Zoom\n",
    " * Lab:  CRN 13449 - Wed 9am-11:50am over Zoom\n",
    " "
   ]
  },
  {
   "cell_type": "markdown",
   "metadata": {},
   "source": [
    "## Course Materials\n",
    "\n",
    "### Textbook\n",
    "\n",
    "_Problem Solving with Python 3.7 Edition_ by Peter D. Kazarinoff. Available on-line at [problemsolvingwithpython.com](https://problemsolvingwithpython.com/) and hard copy on Amazon.com: [https://www.amazon.com/dp/1693405415](https://www.amazon.com/dp/1693405415). Ensure you have the 3.7 Edition. Homework will be assigned out of the book.\n",
    "\n",
    "### Other course materials\n",
    "\n",
    " * **Internet Access.** You need access to the internet in order to participate in the course this quarter\n",
    " \n",
    " * **Zoom.** Course meetings will take place over Zoom and all course meetings will be recorded and uploaded to D2L.\n",
    " \n",
    " * **Email.** Communication with your instructor will take place over email. Use your PCC email account. Your instructor will reply to PCC email address. Your personal (non-PCC) email address may get blocked by PCC's firewall.\n",
    " \n",
    " * **D2L.** The D2L learning management system is used to post assignments, labs, and exams. Your course work, including: homework, labs, quizzes, exams and projects need to be submitted to D2L. All course grades will be stored in D2L.\n",
    " \n",
    " * Access to **the course programming environment**, available online at [https://engr114.org](https://engr114.org). An @pcc.edu email address and password is needed to login. Log into your @pcc.edu email account and then open the course programming environment. You can also use Google CoLab [https://colab.research.google.com](https://colab.research.google.com) with your @pcc.edu account.\n",
    " \n",
    " * A **laptop, chromebook, tablet or desktop computer** is required for the course. If you are using a Windows10,  MacOS or Linux operating system, you can download the same programming environment used by your instructor. The download is free and available at [https://anaconda.com/distribution](https://www.anaconda.com/distribution/). If you are using a chromebook or tablet, you can use one of the online programming environments (Google CoLab or engr114.org)."
   ]
  },
  {
   "cell_type": "markdown",
   "metadata": {},
   "source": [
    "## Course Components"
   ]
  },
  {
   "cell_type": "markdown",
   "metadata": {},
   "source": [
    "### Homework\n",
    "\n",
    "Homework is intended as a means of practicing the concepts presented in class. It is advised that you keep up with your homework assignments each week and submit each week's assignment to D2L. Homework will be reviewed by your instructor to determine which topics need more reinforcement and as a way to you and your instructor to share your course progress. **Homework will not be included in your grades and homework due dates will not be enforced by grading.**"
   ]
  },
  {
   "cell_type": "markdown",
   "metadata": {},
   "source": [
    "### Exams\n",
    "\n",
    "If a student is unable to take the exam when it is scheduled, it is the student's responsibility to notify the instructor **at least 1 week prior to the date of an exam**. Make-up exams, if allowed, will be scheduled by the instructor after consulting with the student **prior** to the original date of the exam. I look forward to working with any students who have testing accommodations. It is the student's responsibility to set up a meeting **at least 1 week prior to the exam date** to review exam protocol.  There will be two Exams in the course. One Midterm Exam and one Exam the last week of classes (the week before finals week).\n",
    "\n",
    "#### Exam Deadlines and Grading:\n",
    "\n",
    " * Exams can be completed at any time during the week the exam is posted. Once you open the exam in D2L, you have 3 hours to complete the exam and upload your exam to D2L.\n",
    " * Exam Uploads after the deadline posted in D2L will receive a 0 (Insufficient evidence).\n",
    " * You can re-do your Exam 1. Exam 1 re-dos are due the last week of the quarter, Monday at 12noon. No Exam 1 re-do's will be accepted after this due date for a grade to give your instructor sufficient time to grade your exam re-dos by the end of the quarter.\n",
    " * Exams which contain coppied work of others will recieve a 0 (Insufficient evidence). The instructor can not assess student learning when a student submits someone else's work. A student who recieves a 0 (Insufficient evidence) on Exam 1 must complete an Exam 1 re-do by the last week of the quarter, Monday at 12noon.\n",
    " * There will be no Exam 2 re-do's."
   ]
  },
  {
   "cell_type": "markdown",
   "metadata": {},
   "source": [
    "### Labs\n",
    "\n",
    "Typically, lecture is held early in the week and lab held later in the week.  This is subject to change.  Lab assignments are typically due at the end of the lab period, uploaded to D2L. Your median lab score (your middle lab score, not your average lab score) will be used to calculate your final grade. Lab assignments can be re-done and re-submitted to improve your grade. All lab re-submissions must be uploaded to D2L by Monday at 12noon, the last week of the quarter (the Monday before finals week). No labs submitted after this date will be graded for course credit. This enforced due date ensures your instructor has time to grade your lab assignments before the end of the quarter."
   ]
  },
  {
   "cell_type": "markdown",
   "metadata": {},
   "source": [
    "### In-Class Assignments\n",
    "\n",
    "Most lecture days include an in-class practice that should to be uploaded to D2L by the end of the class period. See D2L for specific in-class practice details. **In-class practice will not be graded**. Use in-class practice to track your progress in the course and guage your participation in the course. **In-class assignments will not be included in your grades and in-class assignment due dates will not be enforced by grading.**"
   ]
  },
  {
   "cell_type": "markdown",
   "metadata": {},
   "source": [
    "### Group Project\n",
    "\n",
    "You will complete a group project throughout the quarter. Project delivery will be at the end of the quarter during finals week. During the quarter, there will be occasional project milestones to update. See D2L for the project description and final project grading details. **Projects are due at the end of the quarter and no late projects will be evaluated for student understanding**."
   ]
  },
  {
   "cell_type": "markdown",
   "metadata": {},
   "source": [
    "## Grading\n",
    "\n",
    " * Homework: 0%\n",
    " * In-class: 0%\n",
    " * Labs: 25%\n",
    " * Exam 1: 25%\n",
    " * Exam 2: 25%\n",
    " * Group Project: 25%\n",
    " \n",
    "Grades in the course will follow a 4-point grading scale:\n",
    "\n",
    "4 - Exceeds standards\n",
    "\n",
    "3 - Meets standards\n",
    "\n",
    "2 - Approaches standards\n",
    "\n",
    "1 - Not yet met standards\n",
    "\n",
    "0 - Insufficient evidence\n",
    "\n",
    "Final grades will be mapped from the 4-point scale to letter grades at the end of the quarter as follows:\n",
    "\n",
    "| 4-point scale | Letter grade |\n",
    "| --- | --- |\n",
    "| 3.00 - 4.00 | A |\n",
    "| 2.00 - 2.99 | B |\n",
    "| 1.00 - 1.99 | C |\n",
    "| 0.01 - 0.99 | D |\n",
    "| 0.00 | F |\n"
   ]
  },
  {
   "cell_type": "markdown",
   "metadata": {},
   "source": [
    "## Class rules and resources\n",
    "\n",
    "### Class Rules\n",
    "\n",
    "Be respectful and courteous to others.  This courtesy applies during class Zoom meetings and Zoom chat. In D2L, provide respectful communication to your fellow students. The instructor strives to ensure there is a safe and supportive learning environment for all students in the course. \n",
    "\n",
    "### Attendance, Make-Up, and Other Class Policies\n",
    "\n",
    "Attendance at all lecture and lab Zoom meetings will be tracked but is not required. Attendace will not be included in the final course grade.  Poor attendance or repeated tardiness will have an adverse effect on student learning.\n",
    "\n",
    "Students should check their @pcc.edu email at least three times a week to ensure receipt of announcements and essential information about the class.\n",
    "\n",
    "Students may only attend this course if registered.  Students who are unable to attend must drop the course through the PCC Registration Office.  To remove tuition charges, the course must be dropped by the student before the drop deadline posted on MyPCC.  Students who never attend, or stop attending, without dropping may receive a W or a failing grade and will be required to pay for the course.\n",
    "\n",
    "The instructor reserves the right to modify course content and/or substitute assignments and learning activities in response to institutional, weather or class situations."
   ]
  },
  {
   "cell_type": "markdown",
   "metadata": {},
   "source": [
    "### Additional Content Areas, Links, and Other Information\n",
    "(Note: See electronic copy for clickable links to these resources.)\n",
    "\n",
    " * [Think Python](http://greenteapress.com/think-python) is a free textbook in PDF form, or is available for purchase in print form from Amazon.\n",
    " * [Get Programming](https://www.manning.com/books/get-programming) by Ana Bell is another good book. It is available at [Manning Publications](https://www.manning.com/).\n",
    " * [Python Basics](https://static.realpython.com/python-basics-sample-chapters.pdf) by the Real Python team has a few free chapters that could be useful.\n",
    "\n",
    "* [PCC Grading Guidelines](http://www.pcc.edu/resources/academic/standards-practices/AcademicStandardsandPractices-GradingGuidelines.html)\n",
    " * [Add/drop/withdraw deadlines for the term](http://www.pcc.edu/registration/dropping.html)\n",
    " \n",
    " * [PCC Academic Calendar](http://www.pcc.edu/registration/academic-calendar.html)\n",
    " * [PCC Nondiscrimination Statement](https://www.pcc.edu/about/equity-inclusion/eeo-statement.html)\n",
    "\n",
    "#### Student services: \n",
    "\n",
    " * [Veteran Resources](https://www.pcc.edu/resources/veterans/) \n",
    "\n",
    " * [Sylvania Student Learning Center](http://www.pcc.edu/resources/tutoring/sylvania/student-success/) \n",
    "\n",
    " * [Sylvania Women's Resource Center](https://www.pcc.edu/resources/women/sylvania/)\n",
    "\n",
    " * [LGBTQ Resources and Programming at Sylvania](https://www.pcc.edu/resources/qrc/sylvania/)\n",
    "\n",
    "[Student Rights and Responsibilities](http://www.pcc.edu/about/policy/student-rights/), Includes information on children on PCC Properties, Academic Integrity Policy, Policy on Student Conduct.\n",
    "     \n",
    "#### Food Pantry and Emergency Funds\n",
    "\n",
    "If you face challenges affording food or housing, this will naturally affect your classwork. PCC wants you to be successful and offers some resources that may help:\n",
    "\n",
    " * Emergency Funds: [www.pcc.edu/enroll/paying-for-college/emergency-funds.html](https://www.pcc.edu/enroll/paying-for-college/emergency-funds.html)\n",
    " \n",
    " * Food Pantries [www.pcc.edu/student-leadership/services/free-resources](https://www.pcc.edu/student-leadership/services/free-resources)\n",
    "\n",
    "\n",
    "#### Additional Classroom Rules\n",
    " \n",
    " * The unauthorized recording (audio, video, or still pictures) of course sessions, including recording other students, and distribution of said recordings is not permitted.\n",
    " \n",
    " * The instructor reserves the right to modify course content and/or substitute assignments and learning activities in response to institutional, weather, or class situations."
   ]
  },
  {
   "cell_type": "markdown",
   "metadata": {},
   "source": [
    "### Students with Disabilities\n",
    "\n",
    "Students working with the Office for Students with Disabilities that may require classroom or course adjustment or accommodation should make their needs known to the instructor as early as possible.  The Office for Students with Disabilities may be contacted at: \n",
    "\n",
    "[https://pcc.edu/disability](https://pcc.edu/disability)\n",
    "\n",
    "Sylvania ST 229\n",
    "\n",
    "Portland, OR 97219\n",
    "\n",
    "Phone: 971-722-4341 (Voice)\n",
    "\n",
    "Email: disability.services@pcc.edu\n",
    "\n",
    "Students who have a documented disability and require accommodation should contact [Disabilities Services](http://www.pcc.edu/resources/disability) and provide the Approved Academic Accommodations letter to the Instructor."
   ]
  },
  {
   "cell_type": "markdown",
   "metadata": {},
   "source": [
    "### Title IV\n",
    "\n",
    "Portland Community College is committed to creating and fostering a learning and working environment based on open communication and mutual respect. If you believe you have encountered sexual harassment, sexual misconduct, sexual assault, or discrimination based on race, color, religion, age, national origin, veteran status, sex, sexual orientation, gender identity, or disability please contact the Office of Equity and Inclusion at (971) 722-5840 or equity.inclusion@pcc.edu."
   ]
  },
  {
   "cell_type": "markdown",
   "metadata": {},
   "source": [
    "### Academic Integrity\n",
    "\n",
    "Students are required to complete this course in accordance with the [PCC Student Rights and Responsibilities Handbook](https://www.pcc.edu/about/policy/student-rights/documents/student-conduct.pdf).  Dishonest activities such as cheating on exams and submitting or copying work done by others will result in disciplinary actions including, but not limited to, receiving a failing grade in the course."
   ]
  },
  {
   "cell_type": "markdown",
   "metadata": {},
   "source": [
    "## Tentative Course Schedule\n",
    "\n",
    "The course schedule below is subject to change. Check D2L for specific course deadlines.\n",
    "\n",
    "| Week | Lecture | Lab | Homework |\n",
    "| --- | --- | --- | --- |\n",
    "| Week 1 | The Python REPL | Lab 1: Circuit Python | |\n",
    "| Week 2 | Data types and variables | Lab 2: Data Types | Homework 1 |\n",
    "| Week 3 | No Class - Holiday | Lab 3: Weather Data | Homework 2 |\n",
    "| Week 4 | Plotting | Lab 4: Plotting | Homework 3 |\n",
    "| Week 5 | Functions | Lab 5: Web API's | Homework 4 |\n",
    "| Week 6 | Review | **Exam 1**  | |\n",
    "| Week 7 | If, elif, else | Lab 6: Image Editing | Homework 5 |\n",
    "| Week 8 | For Loops | Lab 7: External Hardware | Homework 6 |\n",
    "| Week 9 | While Loops | Lab 8: Taylor Series | Homework 7 |\n",
    "| Week 10 | Review | **Exam 2** | |\n",
    "| Finals Week | **Final Project Delivery** | | |"
   ]
  }
 ],
 "metadata": {
  "kernelspec": {
   "display_name": "Python 3",
   "language": "python",
   "name": "python3"
  },
  "language_info": {
   "codemirror_mode": {
    "name": "ipython",
    "version": 3
   },
   "file_extension": ".py",
   "mimetype": "text/x-python",
   "name": "python",
   "nbconvert_exporter": "python",
   "pygments_lexer": "ipython3",
   "version": "3.8.3"
  }
 },
 "nbformat": 4,
 "nbformat_minor": 2
}
